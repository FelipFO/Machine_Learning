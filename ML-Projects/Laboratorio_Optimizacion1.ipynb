{
  "cells": [
    {
      "cell_type": "markdown",
      "metadata": {
        "id": "xnCcSDL1DatS"
      },
      "source": [
        "#**Laboratorio: Introducción Optimización**"
      ]
    },
    {
      "cell_type": "markdown",
      "metadata": {
        "id": "T3FnJWAPDmL8"
      },
      "source": [
        "La teoría de optimización es la base sobre la cual se construyen\n",
        "la mayor parte de las técnicas de machine learning. Durante esta práctica de laboratorio veremos la introducción al paquete optimize de scipy y un ejemplo haciendo uso de este.\n"
      ]
    },
    {
      "cell_type": "markdown",
      "metadata": {
        "id": "HMpGJ-Zi0Whs"
      },
      "source": [
        "#**1. Paquete optimize de scipy**"
      ]
    },
    {
      "cell_type": "markdown",
      "metadata": {
        "id": "U2BeyR_i3tuA"
      },
      "source": [
        "El paquete optimize de scipy posee distintas herramientas que permiten minimizar funciones. Una de las funciones más útiles del paquete optimize es *minimize*, que permite minimizar funciones escalares no lineales de una o más variables. A continuación se describen los argumentos de la función para su funcionamiento y se da un ejemplo de cálculo de minimizadores usando *minimize*."
      ]
    },
    {
      "cell_type": "markdown",
      "metadata": {
        "id": "Nz0Md_WH69Y1"
      },
      "source": [
        "En primer lugar, se importa la función minimize del paquete optimize de scipy"
      ]
    },
    {
      "cell_type": "code",
      "execution_count": 1,
      "metadata": {
        "id": "UNqiHmj53tFs"
      },
      "outputs": [],
      "source": [
        "from scipy.optimize import minimize"
      ]
    },
    {
      "cell_type": "markdown",
      "metadata": {
        "id": "5bjW2xhS7JAD"
      },
      "source": [
        "La función minimize recibe como argumentos lo siguiente:\n",
        "\n",
        "**Argumentos obligatorios:**\n",
        "\n",
        "- fun: la función que se desea minimizar. Por ejemplo, si se desea minimizar una función de 3 variables, la función no debe recibir 3 argumentos, sino un solo argumento X que es un array de 3 posiciones, donde cada posición corresponde a cada una de las variables. Es decir:\n",
        "\n",
        "  Forma incorrecta:\n",
        "\n",
        "  ```\n",
        "  def funcion (x,y,z):\n",
        "    return x + y + z\n",
        "  ```\n",
        "  Forma correcta:\n",
        "\n",
        "  ```\n",
        "  def funcion(X):\n",
        "    x,y,z = X\n",
        "    return x + y + z\n",
        "  ```\n",
        "\n",
        "- X0: un array de n elementos donde n es el número de variables de la función y que corresponde a las condiciones iniciales de cada variable.\n",
        "\n",
        "**Argumentos opcionales:**\n",
        "\n",
        "- args: Una tupla de elementos donde cada elemento corresponde a los parámetros adicionales de la función. Por ejemplo, si se tiene una función que recibe 3 variables y un parámetro p, la definición correcta de la función debería ser:\n",
        "\n",
        "  ```\n",
        "  def funcion(X, p):\n",
        "    x,y,z = X\n",
        "    return x*p + y + z\n",
        "  ```\n",
        "\n",
        "  Y en este caso, al invocar la función *minimize* se debería incluir el argumento *args* como una tupla de 1 posición, donde el valor corresponde al valor del parámetro p. Asumiendo que p tiene un valor de 0.2, se debería cumplir lo siguiente:\n",
        "\n",
        "  ```\n",
        "  argumentos = (0.2,)\n",
        "  resultado = minimize(funcion, args = argumentos)\n",
        "  ```\n",
        "\n",
        "- bounds: Los límites de cada uno de los parámetros representados como una lista de tuplas, donde la lista tiene longitud *n* siendo n el número de variables de la función y cada tupla debe tener dos elementos de la siguiente manera: *(min, max)* y que corresponden al mínimo y máximo de cada variable. Si se coloca *None* en alguno de los parámetros min o max se asume que el parámetro no tiene límite inferior o superior dependiendo del caso. Por ejemplo:\n",
        "\n",
        "  Se tiene una función *f* de 3 variables, donde la primera variable debe estar en el rango (10,20), la segunda variable debe ser mayor a 0 y la tercera variable debe ser menor a 10.\n",
        "\n",
        "  En este caso, el código correcto para definir los límites de las variables es el siguiente:\n",
        "\n",
        "  ```\n",
        "  limites = [(10,20),(0,None),(None,10)]\n",
        "  resultado = minimize(funcion, bounds = limites)\n",
        "  ```\n",
        "\n",
        "- constraints: Las restricciones que se tienen sobre las variables en forma de lista de diccionarios, donde cada elemento corresponde a cada una de las restricciones. Esta restricción debería estar escrita de la forma $g(x)\\ge 0$. Por ejemplo, asuma que se tiene un problema de optimización con una función de 3 variables y la siguiente restricción:\n",
        "  \\begin{align}\n",
        "  4 x_1 + 3 x_2 - x_3 >= 4\n",
        "  \\end{align}\n",
        "  Esta restrición entonces la reescribimos de la siguiente forma:\n",
        "  \\begin{align}\n",
        "  4 x_1 + 3 x_2 - x_3 -4 >= 0 .\n",
        "  \\end{align}\n",
        "  La restricción se debe definir como una función aplicable sobre las variables y que siempre debe retornar el resultado de la función igualada a 0. En este caso, la función de restricción debería ser:\n",
        "\n",
        "  ```\n",
        "  def restriccion_1(X):\n",
        "      x_1, x_2, x_3 = X\n",
        "      return 4*x_1 + 3*x_2 - x_3 - 4\n",
        "  ```\n",
        "\n",
        "  Note que en la función se resta 4 a la condición original para garantizar que la restricción esté igualada a 0.\n",
        "\n",
        "  Una vez definida la función de restricción, se debe armar un diccionario con al menos 2 llaves: *type*, que puede tener valores \"eq\" o \"ineq\" y define si la restricción es una igualdad ($x_1 + x_2 = 0$) o una desigualdad ($x_1 + x_2 <= 0$); en caso de que la restricción sea una desigualdad, esta siempre debe ser expresada en la forma menor o igual a \"<=\".\n",
        "\n",
        "  Como segunda llave se tiene *fun*, y su valor es la función que define la restricción. En el caso de la función *restriccion_1*, definida anteriormente, el diccionario que se debe armar para poder incluirla debe ser el siguiente:\n",
        "\n",
        "  ```\n",
        "  rest1 = {\"type\":\"ineq\",\"fun\":restriccion_1}\n",
        "  ```\n",
        "  Por último, cada una de las restricciones (diccionarios) debe ser colocada en una lista e ingresada como parámetro *constrains*.\n",
        "\n",
        "\n",
        "\n",
        "\n",
        "\n",
        "\n"
      ]
    },
    {
      "cell_type": "markdown",
      "metadata": {
        "id": "SRii1JdPFbXq"
      },
      "source": [
        "**Retorno:**\n",
        "\n",
        "La función minimize retorna un diccionario con llaves *success* (booleano que indica si la solución pudo se hallada o no), *message* (mensaje que describe la causa de terminación de la ejecución del algoritmo) y *x* (array que contiene la solución)."
      ]
    },
    {
      "cell_type": "markdown",
      "metadata": {
        "id": "hEyfWTLuGE7B"
      },
      "source": [
        "#**Ejemplo de uso de la función**\n",
        "\n",
        "Asuma que se quiere minimizar la función $f(x) = 3(x_1 - 10)^2 + 4(x_2 - 5)^2$ sujeto a la restricción $x_1^2+x_2^2 \\leq 9$ con $x_1 \\geq 1$ y $x_2 \\geq 2$."
      ]
    },
    {
      "cell_type": "code",
      "execution_count": 2,
      "metadata": {
        "id": "1znrLDtv7HiF"
      },
      "outputs": [],
      "source": [
        "#En primer lugar, importamos las funciones necesarias\n",
        "import numpy as np\n",
        "import matplotlib.pyplot as plt\n",
        "from scipy.optimize import minimize"
      ]
    },
    {
      "cell_type": "code",
      "execution_count": 3,
      "metadata": {
        "id": "SJ6ZvS8jz_Fj"
      },
      "outputs": [],
      "source": [
        "#Ahora, definimos la función de costo a minimizar\n",
        "def f_costo(X):\n",
        "  return 3*(X[0] - 10)**2 + 4*(X[1] - 5)**2"
      ]
    },
    {
      "cell_type": "code",
      "execution_count": 4,
      "metadata": {
        "id": "Gi99oK4v0U95"
      },
      "outputs": [],
      "source": [
        "#Definimos las restricciones y límites en el formato necesario para minimize\n",
        "def f_restriccion(X):\n",
        "  return 9 - X[0]**2  - X[1]**2\n",
        "\n",
        "constraints = [{\"type\":\"ineq\",\"fun\":f_restriccion},]\n",
        "boundaries = [(1, None),(2, None)]\n",
        "\n",
        "#Definimos las condiciones iniciales que queremos aplicar\n",
        "\n",
        "x0 = [5,5]"
      ]
    },
    {
      "cell_type": "code",
      "execution_count": 5,
      "metadata": {
        "id": "2f7KccJN0l19"
      },
      "outputs": [],
      "source": [
        "#Calculamos el resultado con la función minimize\n",
        "res = minimize(f_costo,x0, bounds=boundaries, constraints=constraints)"
      ]
    },
    {
      "cell_type": "code",
      "execution_count": 6,
      "metadata": {
        "colab": {
          "base_uri": "https://localhost:8080/"
        },
        "id": "ogMglOtG1dRC",
        "outputId": "3e5b3977-7083-4a2d-bfcb-8b669de381c7"
      },
      "outputs": [
        {
          "name": "stdout",
          "output_type": "stream",
          "text": [
            " message: Optimization terminated successfully\n",
            " success: True\n",
            "  status: 0\n",
            "     fun: 216.83592130158132\n",
            "       x: [ 2.236e+00  2.000e+00]\n",
            "     nit: 7\n",
            "     jac: [-4.658e+01 -2.400e+01]\n",
            "    nfev: 22\n",
            "    njev: 7\n"
          ]
        }
      ],
      "source": [
        "print(res)"
      ]
    },
    {
      "cell_type": "code",
      "execution_count": 7,
      "metadata": {
        "colab": {
          "base_uri": "https://localhost:8080/"
        },
        "id": "X3Z-Ml6G1e7W",
        "outputId": "3eb4e225-bbbf-440b-ab63-7c8da83a774c"
      },
      "outputs": [
        {
          "name": "stdout",
          "output_type": "stream",
          "text": [
            "El minimizador encontrado es: [2.23606798 2.        ]\n"
          ]
        }
      ],
      "source": [
        "#Extraemos el resultado (parámetro x de la solución)\n",
        "minimizador = res[\"x\"]\n",
        "print(f\"El minimizador encontrado es: {minimizador}\")"
      ]
    },
    {
      "cell_type": "markdown",
      "metadata": {
        "id": "x7SxH1bJGR2Q"
      },
      "source": [
        "Como resultado de esta minimización obtenemos el mínimo de la función de costo en el atributo *fun*. Por otra parte, el minimizador se encuentra en el atributo x, este hace referencia a los valores que deben tomar $x_1$ y $x_2$ para que cumpla el valor de la minimización con las restricciones establecidas."
      ]
    },
    {
      "cell_type": "markdown",
      "metadata": {
        "id": "bLjjI1iY2IEy"
      },
      "source": [
        "#**Ejercicios**"
      ]
    },
    {
      "cell_type": "markdown",
      "metadata": {
        "id": "R0ziXbGaMqU4"
      },
      "source": [
        "**1. Cambie la restricción $x_1^2+x_2^2 \\leq 9$ del ejemplo anterior por $2x_1^4+x_2^2 \\leq 400$. Identifique cómo cambian los resultados de la minimización para la función $f(x)$.**"
      ]
    },
    {
      "cell_type": "code",
      "execution_count": 7,
      "metadata": {
        "id": "sR2mMaztPuRq"
      },
      "outputs": [],
      "source": []
    },
    {
      "cell_type": "markdown",
      "metadata": {
        "id": "msJF5gtiQasg"
      },
      "source": [
        "**2. Minimice la función $f(x) = (x_1 - 3)^2 + (x_2 - 2)^2$ sujeto a la restricción $2x_1+x_2\\leq 6$ con $x_1,x_2 \\geq 0$.**"
      ]
    },
    {
      "cell_type": "code",
      "execution_count": 7,
      "metadata": {
        "id": "mPgMMxUlZz6G"
      },
      "outputs": [],
      "source": []
    }
  ],
  "metadata": {
    "colab": {
      "provenance": []
    },
    "kernelspec": {
      "display_name": "Python 3",
      "name": "python3"
    },
    "language_info": {
      "name": "python"
    }
  },
  "nbformat": 4,
  "nbformat_minor": 0
}
