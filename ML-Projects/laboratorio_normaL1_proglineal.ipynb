{
  "cells": [
    {
      "cell_type": "markdown",
      "metadata": {
        "id": "0S8EwZ02b_Db"
      },
      "source": [
        "# **Laboratorio: Regresión lineal como problema de programación lineal**"
      ]
    },
    {
      "cell_type": "markdown",
      "metadata": {
        "id": "j8cdmOqUts2d"
      },
      "source": [
        "Usualmente el  problema de regresión lineal se resuelve usando el criterio de mínimos cuadrados, el cual implica la minimización de una distancia Euclidiana definida a través de la norma $L^2$. En este laboratorio vamos a explorar la forma de resolver el problema de regresión lineal cuando ahora queremos minimizar la distancia de Manhattan, la cual está definida a través de la norma $L^1$. Este problema puede ser formulado como como un problema de programación lineal. Aquí formularemos y solucionaremos un caso de estudio, y verificaremos  que su solución cumple el teorema fundamental de la programación lineal."
      ]
    },
    {
      "cell_type": "markdown",
      "metadata": {
        "id": "ZJFOyhPlcVNp"
      },
      "source": [
        "# **Descripción del problema**\n",
        "\n",
        "Consideremos el siguiente problema de regresión. Tenemos parejas de observaciones del predictor $x\\in \\mathbb{R}$ y la variable a predecir $y\\in\\mathbb{R}$. Sabemos que la relación entre $x$ y $y$ se define a través de la ecuación\n",
        "$$y=w_0+w_1 x,$$\n",
        "donde $w=[w_0, w_1]^T$ son los parámetros del modelo. En el problema de regresión queremos estimar los valores de $w$ a partir de observaciones de los $x$ con sus respectivos valores de $y$. En este problema particular, las observaciones de $x$ con sus respectivos $y$ que tenemos son las siguientes:\n",
        "\n",
        "|  |  |  | |\n",
        "|:--------:|:--------:|:--------:|:--------:|\n",
        "|  x   |  1.1   |  2.15   |  2.93   |\n",
        "|  y   |  0.98   |  0.09   | -1.6   |\n",
        "\n",
        "Usando estos datos, planteamos las siguientes ecuaciones de acuerdo con la relación $y=w_0+w_1 x$:\n",
        "\n",
        "$$\n",
        "\\begin{align}\n",
        "0.98 = w_0 + 1.1w_1 \\\\\n",
        "0.09 = w_0 + 2.15w_1 \\\\\n",
        "-1.6 = w_0 + 2.93w_1 \\\\\n",
        "\\end{align}\n",
        "$$\n",
        "\n",
        "El objetivo es encontrar $w=[w_0, w_1]^T$ tal que el lado derecho de las ecuaciones sea lo más cercano al lado izquerdo de las ecuaciones. En otras palabras, queremos minimizar los errores:\n",
        "\n",
        "\n",
        "Error 1 = $0.98 - (w_0 + 1.1w_1)$\n",
        "\n",
        "Error 2 = $0.09 - (w_0 + 2.15w_1) $\n",
        "\n",
        "Error 3 = $-1.6 - (w_0 + 2.93w_1)$\n",
        "\n",
        "\n",
        "Este es un problema de optimización, donde las variables de decisión son $w_0$ y $w_1$, la región factible es $\\mathbb{R}^2$, y la función objetivo a minimizar la podemos plantear de la siguiente forma:\n",
        "$$\n",
        "f(w)=|Error \\ 1|+|Error \\ 2|+|Error \\ 3|.\n",
        "$$\n",
        "Es decir, queremos encontrar los parámetros $w$ que minimizan la suma de los valores absolutos del error."
      ]
    },
    {
      "cell_type": "markdown",
      "metadata": {
        "id": "w81_CE5bh9HO"
      },
      "source": [
        "Si definimos la matrix $H$ como la matriz que tiene los coeficientes de los $w$:\n",
        "$$H = \\begin{bmatrix}\n",
        "1 & 1.1\\\\\n",
        "1 & 2.15 \\\\\n",
        "1 & 2.93\\\\\n",
        "\\end{bmatrix}$$\n",
        "y el vector $Y = [0.98, 0.09, -1.6]^T$ con las observaciones de la variable a predecir, la función objetivo $f(w)$ la podemos plantear como\n",
        "\n",
        "$$ f(w) = ||y - H w||_1.$$\n",
        "\n",
        "Lo que queremos hacer a continuación es formular este problema como un problema de programación lineal.\n",
        "\n"
      ]
    },
    {
      "cell_type": "markdown",
      "metadata": {
        "id": "mJznSo4QetQt"
      },
      "source": [
        "# **Planteamiento del problema**\n",
        "\n",
        "El conjunto de ecuaciones que se tiene es el siguiente:\n",
        "\n",
        "$$\n",
        "\\begin{align}\n",
        "0.98 = w_0 + 1.1w_1 \\\\\n",
        "0.09 = w_0 + 2.15w_1 \\\\\n",
        "-1.6 = w_0 + 2.93w_1 \\\\\n",
        "\\end{align}\n",
        "$$"
      ]
    },
    {
      "cell_type": "markdown",
      "metadata": {
        "id": "wO85SLdp4qR4"
      },
      "source": [
        "Así, hallar los valores de $w$ que minimizan la distancia usando la norma $L1$ es equivalente a solucionar el siguiente problema de programación lineal:\n",
        "\n",
        "$$\\min_{t,x} [t_1 + t_2 + t_3]$$\n",
        "\n",
        "sujeto a:\n",
        "\n",
        "$$0.98 - (w_0 + 1.1w_1) \\geq -t_1$$\n",
        "\n",
        "$$0.98 - (w_0 + 1.1w_1) \\leq t_1$$\n",
        "\n",
        "$$0.09 - (w_0 + 2.15w_1) \\geq -t_2$$\n",
        "\n",
        "$$0.09 - (w_0 + 2.15w_1) \\leq t_2$$\n",
        "\n",
        "$$-1.6 - (w_0 + 2.93w_1) \\geq -t_3$$\n",
        "\n",
        "$$-1.6 - (w_0 + 2.93w_1) \\leq t_3$$\n",
        "\n",
        "$$t_1,t_2,t_3\\ge0$$\n",
        "\n"
      ]
    },
    {
      "cell_type": "markdown",
      "metadata": {
        "id": "wPgDjtcN6P-4"
      },
      "source": [
        "Para poderlo implementar usando $linprog$ de Scipy, tenemos que reescribir las las restricciones de la siguiente forma:\n",
        "\n",
        "$$ w_0 + 1.1w_1 - t_1 \\leq 0.98$$\n",
        "\n",
        "$$ -w_0 - 1.1w_1 - t_1 \\leq -0.98$$\n",
        "\n",
        "$$  w_0 + 2.15w_1 - t_2 \\leq 0.09$$\n",
        "\n",
        "$$ -w_0 - 2.15w_1 - t_2 \\leq -0.09$$\n",
        "\n",
        "$$ w_0 +2.93w_1 - t_3 \\leq -1.6$$\n",
        "\n",
        "$$  -w_0 - 2.93w_1 - t_3 \\leq 1.6$$"
      ]
    },
    {
      "cell_type": "markdown",
      "metadata": {
        "id": "bfg7TTI25dOL"
      },
      "source": [
        "con la función objetivo expresada como\n",
        "$$\\min_{x,t}  [ 0x_1 + 0x_2 + t_1 + t_2 + t_3]$$\n",
        "\n",
        "Los vectores y matrices del problema de programación lineal, como están en la documentación de $linprog$, quedan:\n",
        "\n",
        "$$c = [0,0,1,1,1]^T$$\n",
        "\n",
        "$$A = \\begin{bmatrix}\n",
        "1 & 1.1 & -1 & 0 & 0\\\\\n",
        "-1 & -1.1 & -1 & 0 & 0\\\\\n",
        "1 & 2.15 & 0 & -1 & 0\\\\\n",
        "-1 & -2.15 & 0 & -1 & 0\\\\\n",
        "1 & 2.93 & 0 & 0 & -1\\\\\n",
        "-1 & -2.93 & 0 & 0 & -1\\\\\n",
        "\\end{bmatrix}$$\n",
        "\n",
        "$$b = [0.98,-0.98,0.09,-0.09,-1.6,1.6]^T$$\n",
        "\n",
        "$$t_1,t_2,t_3 \\geq 0$$\n",
        "\n",
        "El problema es resuelto a continuación:\n",
        "\n"
      ]
    },
    {
      "cell_type": "code",
      "execution_count": 2,
      "metadata": {
        "id": "MVLLav1P4oSk"
      },
      "outputs": [],
      "source": [
        "from scipy.optimize import linprog\n",
        "import numpy as np\n",
        "import matplotlib.pyplot as plt"
      ]
    },
    {
      "cell_type": "code",
      "execution_count": 3,
      "metadata": {
        "colab": {
          "base_uri": "https://localhost:8080/"
        },
        "id": "2xVDYUj5_bgp",
        "outputId": "b21d85e0-12c6-4d24-a130-574095b8d4d6"
      },
      "outputs": [
        {
          "name": "stdout",
          "output_type": "stream",
          "text": [
            "w0 = 2.531\n",
            "w1 = -1.41\n",
            "t1 = 0.0\n",
            "t2 = 0.59\n",
            "t3 = 0.0\n"
          ]
        }
      ],
      "source": [
        "c = [0,0,1,1,1]\n",
        "\n",
        "A = np.array([[1,1.1,-1,0,0],[-1,-1.1,-1,0,0],[1,2.15,0,-1,0],[-1,-2.15,0,-1,0],[1,2.93,0,0,-1],[-1,-2.93,0,0,-1]])\n",
        "\n",
        "b = [0.98,-0.98,0.09,-0.09,-1.6,1.6]\n",
        "\n",
        "boundaries = [(None,None),(None,None),(0,None),(0,None),(0,None)]\n",
        "\n",
        "sol = linprog(c, A_ub = A, b_ub = b, bounds = boundaries)\n",
        "\n",
        "for i,j in zip([\"w0\",\"w1\",\"t1\",\"t2\",\"t3\"],np.round(sol.x,3)):\n",
        "  print(f\"{i} = {j}\")"
      ]
    },
    {
      "cell_type": "markdown",
      "metadata": {
        "id": "K43T6oIGCHbl"
      },
      "source": [
        "Este resultado nos indica que $w_0=2.531$ y $-1.41$. Esta es la solución del problema de programación lineal, el cual resuelve nuestro problema de regresión. Al graficar los puntos en la tabla arriba usados para entrenar y la recta $y=w_0+w_1x$ con los valores de $w=[w_0, w_1]^T$ encontrados a través del proceso de optimización, se tiene lo siguiente:"
      ]
    },
    {
      "cell_type": "code",
      "execution_count": 4,
      "metadata": {
        "colab": {
          "base_uri": "https://localhost:8080/",
          "height": 473
        },
        "id": "24fRhf6RCG6h",
        "outputId": "64352a4a-552c-4e78-ddc0-e0fa69d76d97"
      },
      "outputs": [
        {
          "data": {
            "image/png": "[encoded data removed]",
            "text/plain": [
              "<Figure size 640x480 with 1 Axes>"
            ]
          },
          "metadata": {},
          "output_type": "display_data"
        }
      ],
      "source": [
        "x = np.linspace(0,4)\n",
        "\n",
        "valores_estimados = sol.x[0] + sol.x[1]*x\n",
        "\n",
        "plt.figure()\n",
        "plt.plot(x,valores_estimados,\"--r\" ,label= \"Recta estimada\")\n",
        "plt.scatter([1.1,2.15,2.93],[0.98,0.09,-1.6],label=\"Observaciones (x,y)\")\n",
        "plt.grid()\n",
        "plt.title(f\"Ecuación estimada: ${round(sol.x[0],2)}{round(sol.x[1],2)}x$\")\n",
        "plt.xlabel(\"$x$\")\n",
        "plt.ylabel(\"$y$\")\n",
        "plt.legend()\n",
        "plt.show()"
      ]
    },
    {
      "cell_type": "markdown",
      "metadata": {
        "id": "_k42ljODFpui"
      },
      "source": [
        "Note que esta recta se intenta ajustar a los datos. Por último, por el teorema fundamental de la programación lineal, se tiene que cumplir que la solución encontrada satisface al menos 2 de las igualdades de las restricciones del problema."
      ]
    },
    {
      "cell_type": "code",
      "execution_count": 6,
      "metadata": {
        "colab": {
          "base_uri": "https://localhost:8080/"
        },
        "id": "Uf3Dfaww_6r_",
        "outputId": "8f8a2d61-cf04-44cd-89a6-7eac03682e89"
      },
      "outputs": [
        {
          "name": "stdout",
          "output_type": "stream",
          "text": [
            "Restricción                      Lado izquierdo de la restricción    Lado derecho de la restricción\n",
            "-----------------------------  ----------------------------------  --------------------------------\n",
            "w_0 + 1.1w_1 - t_1 <= 0.98                                 0.979                               0.98\n",
            "-w_0 - 1.1w_1 - t_1 <= -0.98                              -0.979                              -0.98\n",
            "w_0 + 2.15w_1 - t_2 <= 0.09                               -1.0915                              0.09\n",
            "-w_0 - 2.15w_1 - t_2 <= -0.09                             -0.0885                             -0.09\n",
            "w_0 +2.93w_1 - t_3 <= -1.6                                -1.6013                             -1.6\n",
            "-w_0 - 2.93w_1 - t_3 <= 1.6                                1.6013                              1.6\n"
          ]
        }
      ],
      "source": [
        "from tabulate import tabulate\n",
        "\n",
        "vals = np.round(sol.x,2)\n",
        "w_0,w_1,t_1,t_2,t_3 = vals\n",
        "\n",
        "print(tabulate([\n",
        "[\"w_0 + 1.1w_1 - t_1 <= 0.98\",w_0 + 1.1*w_1 - t_1, 0.98] ,\n",
        "\n",
        "[\"-w_0 - 1.1w_1 - t_1 <= -0.98\", -w_0 - 1.1*w_1 - t_1, -0.98],\n",
        "\n",
        "[\"w_0 + 2.15w_1 - t_2 <= 0.09\", w_0 + 2.15*w_1 - t_2, 0.09],\n",
        "\n",
        "[\"-w_0 - 2.15w_1 - t_2 <= -0.09\", -w_0 - 2.15*w_1 - t_2, -0.09],\n",
        "\n",
        "[\"w_0 +2.93w_1 - t_3 <= -1.6\",w_0 +2.93*w_1 - t_3, -1.6],\n",
        "\n",
        "[\" -w_0 - 2.93w_1 - t_3 <= 1.6\",-w_0 - 2.93*w_1 - t_3, 1.6]], headers = [\"Restricción\",\"Lado izquierdo de la restricción\",\"Lado derecho de la restricción\"]))"
      ]
    },
    {
      "cell_type": "markdown",
      "metadata": {
        "id": "_lVsToCfXsbA"
      },
      "source": [
        "Así, se evidencia que, en este punto solución, para (aproximadamente) cuatro de las restricciones la igualdad se cumple. Por el teorema de la programación lineal, sabemos que la razón es que el punto encontrado está en el borde de la región factible."
      ]
    },
    {
      "cell_type": "markdown",
      "metadata": {
        "id": "-8exS3hnJQ0x"
      },
      "source": [
        "# **Ejercicios**"
      ]
    },
    {
      "cell_type": "markdown",
      "metadata": {
        "id": "M9WhGeVhJTZZ"
      },
      "source": [
        "Asuma que ahora tenemos los siguientes puntos:\n",
        "\n",
        "|  |  |  | |\n",
        "|:--------:|:--------:|:--------:|:--------:|\n",
        "|  x   |  1.5   |  2.25   |  3.2   |\n",
        "|  y   |  -1.2   |  3.1   | 4.1   |"
      ]
    },
    {
      "cell_type": "markdown",
      "metadata": {
        "id": "6mfcdzeOKm3c"
      },
      "source": [
        "**1.** Modifique el siguiente código para calcular la solución con linprog del problema de programación lineal. Para esto, calcule la matriz $A$ y el vector $b$."
      ]
    },
    {
      "cell_type": "code",
      "execution_count": null,
      "metadata": {
        "id": "fdnMUCYjKkuK"
      },
      "outputs": [],
      "source": [
        "c = [0,0,1,1,1]\n",
        "\n",
        "#Modifique la matriz A\n",
        "A = np.array([[1,1.1,-1,0,0],[-1,-1.1,-1,0,0],[1,2.15,0,-1,0],[-1,-2.15,0,-1,0],[1,2.93,0,0,-1],[-1,-2.93,0,0,-1]])\n",
        "\n",
        "#Modifique el vector b\n",
        "b = [0.98,-0.98,0.09,-0.09,-1.6,1.6]\n",
        "\n",
        "boundaries = [(None,None),(None,None),(0,None),(0,None),(0,None)]\n",
        "\n",
        "sol = linprog(c, A_ub = A, b_ub = b, bounds = boundaries)\n",
        "\n",
        "for i,j in zip([\"w0\",\"w1\",\"t1\",\"t2\",\"t3\"],np.round(sol.x,3)):\n",
        "  print(f\"{i} = {j}\")"
      ]
    },
    {
      "cell_type": "markdown",
      "metadata": {
        "id": "zLekDZCeLHmA"
      },
      "source": [
        "**2.** Verifique si se cumple el teorema fundamental de la programación lineal según su solución y el siguiente código. Aquí, sólo ejecute el código de la celda siguiente una vez ejecutado el código de la celda anterior. NO ES NECESARIO MODIFICAR EL CÓDIGO."
      ]
    },
    {
      "cell_type": "code",
      "execution_count": null,
      "metadata": {
        "id": "FKCTXrcqLYhl"
      },
      "outputs": [],
      "source": [
        "from tabulate import tabulate\n",
        "\n",
        "vals = np.round(sol.x,2)\n",
        "w_0,w_1,t1,t2,t3 = vals\n",
        "\n",
        "\n",
        "print(tabulate([[\"w_0 + 1.5*w_1 - t_1 == -1.2\",w_0 + 1.5*w_1 - t_1, -1.2] ,\n",
        "\n",
        "[\"-w_0 - 1.5*w_1 - t_1 == 1.2\", -w_0 - 1.5*w_1 - t_1, 1.2],\n",
        "\n",
        "[\"w_0 + 2.25*w_1 - t_2 == 3.1\", w_0 + 2.25*w_1 - t_2, 3.1],\n",
        "\n",
        "[\"-w_0 - 2.25*w_1 - t_2 == -3.1\", -w_0 - 2.25*w_1 - t_2, -3.1],\n",
        "\n",
        "[\"w_0 +3.2*w_1 - t_3 == 4.1\",w_0 +3.2*w_1 - t_3, 4.1],\n",
        "\n",
        "[\" -w_0 - 3.2*w_1 - t_3 == -4.1\",-w_0 - 3.2*w_1 - t_3, -4.1]], headers = [\"Condición\",\"Condición evaluada\",\"Valor\"]))"
      ]
    },
    {
      "cell_type": "markdown",
      "metadata": {
        "id": "zzvKRar0B5vQ"
      },
      "source": [
        "**3.** Modifique el siguiente código para graficar los puntos dados y la ecuación de la recta encontrada."
      ]
    },
    {
      "cell_type": "code",
      "execution_count": null,
      "metadata": {
        "id": "Hz1JZlE-CKgl"
      },
      "outputs": [],
      "source": [
        "x = np.linspace(1,4)\n",
        "\n",
        "#Modifique la siguiente linea de código con la ecuación de la recta encontrada.\n",
        "valores_estimados = 3*x + 1\n",
        "\n",
        "plt.figure()\n",
        "plt.plot(x,valores_estimados,\"--r\" ,label= \"Recta estimada\")\n",
        "\n",
        "#Modifique la siguiente linea de código con el scatter de los puntos dados.\n",
        "plt.scatter([1.1,2.15,2.93],[0.98,0.09,-1.6],label=\"Valores iniciales\")\n",
        "\n",
        "plt.grid()\n",
        "plt.title(f\"Ecuación estimada: ${round(sol.x[0],2)}{round(sol.x[1],2)}x$\")\n",
        "plt.xlabel(\"$x$\")\n",
        "plt.ylabel(\"$y$\")\n",
        "plt.legend()\n",
        "plt.show()"
      ]
    },
    {
      "cell_type": "code",
      "execution_count": null,
      "metadata": {
        "id": "s453_VdWaIXP"
      },
      "outputs": [],
      "source": []
    }
  ],
  "metadata": {
    "colab": {
      "provenance": []
    },
    "kernelspec": {
      "display_name": "Python 3",
      "name": "python3"
    },
    "language_info": {
      "name": "python"
    }
  },
  "nbformat": 4,
  "nbformat_minor": 0
}
