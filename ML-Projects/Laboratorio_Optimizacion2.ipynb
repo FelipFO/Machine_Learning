{
  "cells": [
    {
      "cell_type": "markdown",
      "metadata": {
        "id": "VxNnCyc7n94x"
      },
      "source": [
        "## **Laboratorio: resolución de problemas de programación lineal usando  *linprog***"
      ]
    },
    {
      "cell_type": "markdown",
      "metadata": {
        "id": "A648gux_ofge"
      },
      "source": [
        "Recordemos que los problemas de programación lineales son problemas de optimización en los que la función objetivo y las restricciones se definen como\n",
        "combinaciones lineales de las variables de decisión. Este tipo de problemas de optimización son importantes en machine learning para resolver problemas donde se aplica la norma L1 y distancias de Manhattan para obtener modelos que al final del proceso de aprendizaje tengan pocos parámetros y se entrenen usando una cantidad grande de datos. También, son ampliamente usados para optimizar el uso de recursos computacionales durante el entrenamiento y despliegue de modelos en sistemas a larga escala. En este laboratorio, estudiaremos el método *linprog* de la librería scipy para solucionar problemas de optimización de tipo lineal. Para facilidad en la explicación del uso de este método en Python, usaremos ejemplos ilustrativos de juguete."
      ]
    },
    {
      "cell_type": "markdown",
      "metadata": {
        "id": "M77r7103pbmp"
      },
      "source": [
        "# **Introducción a linprog**"
      ]
    },
    {
      "cell_type": "markdown",
      "metadata": {
        "id": "FyZJkGs4pqj1"
      },
      "source": [
        "Un problema de programación lineal puede ser descrito de la siguiente forma:\n",
        "\n",
        "$$\\min_{x} c^T x$$\n",
        "sujeto a:\n",
        "$$Ax \\leq b$$\n",
        "\n",
        "donde $c$ es el vector de coeficientes de la función objetivo, $A$ es la matriz de coeficientes de las restricciones y $b$ es el vector de valores de las restricciones."
      ]
    },
    {
      "cell_type": "markdown",
      "metadata": {
        "id": "VRW-oVyQq7Bj"
      },
      "source": [
        "Por ejemplo, suponga que quiere maximizar la ganancia de una empresa que se dedica a la fabricación de sillas y mesas con la siguiente información:\n",
        "\n",
        "- El precio unitario por silla es de 50 y por mesa es de 100.\n",
        "\n",
        "- Para producir una silla se necesitan 2 unidades de madera.\n",
        "\n",
        "- Para producir una mesa se necesitan 5 unidades de madera.\n",
        "\n",
        "- Hay un total de 60 unidades de madera disponibles para fabricación.\n",
        "\n",
        "- Solo hay 40 horas de producción disponibles.\n",
        "\n",
        "- Elaborar una mesa toma 2 horas y elaborar una silla toma 1 hora.\n",
        "\n",
        "- Se deben fabricar máximo 10 sillas.\n",
        "\n",
        "Recordemos que un problema de optimización tiene tres componentes: las variables de decisión, la región factible, y la función objetivo. En este caso, las variables de decisión serían la cantidad de sillas $x_1$ y la cantidad de mesas $x_2$. La función objetivo se puede definir entonces como las ganancias por sillas y mesas producidas, esto es, $50 x_1 + 100 x_2$. Usando el resto de la información dada, podemos contruir el siguiente problema de optimización:\n",
        "$$\\max_{x} 50 x_1 + 100 x_2$$\n",
        "\n",
        "sujeto a:\n",
        "\n",
        "$$2x_1 + 5x_2 \\leq 60$$\n",
        "\n",
        "$$x_1 + 2x_2 \\leq 40$$\n",
        "\n",
        "$$x_1 \\leq 10$$\n",
        "\n",
        "$$x_1, x_2 \\geq 0$$\n",
        "\n",
        "Dado que la función linprog minimiza, se toma el negativo de la función objetivo. Es decir, el problema queda de la siguiente manera:\n",
        "\n",
        "$$\\min_{x} -50 x_1 -100 x_2$$\n",
        "\n",
        "sujeto a:\n",
        "\n",
        "$$2x_1 + 5x_2 \\leq 60$$\n",
        "\n",
        "$$x_1 + 2x_2 \\leq 40$$\n",
        "\n",
        "$$x_1 \\leq 10$$\n",
        "\n",
        "$$x_1, x_2 \\geq 0$$\n",
        "\n",
        "Al plantear este problema en términos de los vectores $c^T, b$ y la matriz $A$ mencionados anteriormente se tiene lo siguiente:\n",
        "\n",
        "$$\\min_{x} c^T x$$\n",
        "sujeto a:\n",
        "$$Ax \\leq b$$\n",
        "donde:\n",
        "$$c = [-50,-100]^T$$\n",
        "\n",
        "$$A = \\begin{bmatrix}\n",
        "2 & 5\\\\\n",
        "1 & 2\\\\\n",
        "1 & 0\n",
        "\\end{bmatrix}$$\n",
        "\n",
        "$$b = [60, 40, 10]^T$$\n",
        "$$x_1, x_2 \\geq 0, $$\n",
        "\n",
        "Las restricciones de no negatividad de las variables de decisión las dejamos por fuera de la expresión $Ax\\le b$ ya que la función *linprog* nos permite definir, a parte, los límites superiores e inferiores de las variables de decisión. En este problema particular, asumimos que las variables de decisión son variables reales."
      ]
    },
    {
      "cell_type": "markdown",
      "metadata": {
        "id": "rIjDw-csyWXM"
      },
      "source": [
        "# **Instrucciones de programación**"
      ]
    },
    {
      "cell_type": "markdown",
      "metadata": {
        "id": "bgl8vpM6yZE3"
      },
      "source": [
        "En primer lugar, se importa la función *linprog* del paquete *scipy.optimize*"
      ]
    },
    {
      "cell_type": "code",
      "execution_count": null,
      "metadata": {
        "id": "O6eufZMnn8hO"
      },
      "outputs": [],
      "source": [
        "from scipy.optimize import linprog"
      ]
    },
    {
      "cell_type": "markdown",
      "metadata": {
        "id": "ZdbSX82pyhN4"
      },
      "source": [
        "A continuación, se definen los parámetros de nuestro problema:"
      ]
    },
    {
      "cell_type": "code",
      "execution_count": null,
      "metadata": {
        "id": "1LJ9ztdPln3H"
      },
      "outputs": [],
      "source": [
        "c = [-50,-100]\n",
        "\n",
        "A = [[2,5],[1,2],[1,0]]\n",
        "\n",
        "b = [60,40,10]"
      ]
    },
    {
      "cell_type": "markdown",
      "metadata": {
        "id": "qRVAfIynzaxQ"
      },
      "source": [
        "Por último, se definen los límites de las variables; en este caso, $x_1, x_2 \\geq 0$."
      ]
    },
    {
      "cell_type": "code",
      "execution_count": null,
      "metadata": {
        "id": "xiVP06ulzjkb"
      },
      "outputs": [],
      "source": [
        "bounds = [(0,None),(0,None)]"
      ]
    },
    {
      "cell_type": "markdown",
      "metadata": {
        "id": "NIZXK566yyQ2"
      },
      "source": [
        "Dado que las restricciones están planteadas de la forma $Ax \\leq b$, se hace uso de los argumentos *A_ub* y *b_ub*. En caso de que las restricciones estén planteadas de la forma $Ax = b$, se debe hacer uso de los parámetros *A_eq* y *b_eq*."
      ]
    },
    {
      "cell_type": "code",
      "execution_count": null,
      "metadata": {
        "id": "JczdCMkHyxLB"
      },
      "outputs": [],
      "source": [
        "solucion = linprog(c,A_ub = A, b_ub = b, bounds=bounds)"
      ]
    },
    {
      "cell_type": "code",
      "execution_count": null,
      "metadata": {
        "colab": {
          "base_uri": "https://localhost:8080/"
        },
        "id": "-OIoFmlGzUBP",
        "outputId": "cd774af0-907d-44fe-ec1e-955c7e65d616"
      },
      "outputs": [
        {
          "data": {
            "text/plain": [
              "        message: Optimization terminated successfully. (HiGHS Status 7: Optimal)\n",
              "        success: True\n",
              "         status: 0\n",
              "            fun: -1300.0\n",
              "              x: [ 1.000e+01  8.000e+00]\n",
              "            nit: 0\n",
              "          lower:  residual: [ 1.000e+01  8.000e+00]\n",
              "                 marginals: [ 0.000e+00  0.000e+00]\n",
              "          upper:  residual: [       inf        inf]\n",
              "                 marginals: [ 0.000e+00  0.000e+00]\n",
              "          eqlin:  residual: []\n",
              "                 marginals: []\n",
              "        ineqlin:  residual: [ 0.000e+00  1.400e+01  0.000e+00]\n",
              "                 marginals: [-2.000e+01 -0.000e+00 -1.000e+01]\n",
              " mip_node_count: 0\n",
              " mip_dual_bound: 0.0\n",
              "        mip_gap: 0.0"
            ]
          },
          "execution_count": 10,
          "metadata": {},
          "output_type": "execute_result"
        }
      ],
      "source": [
        "solucion"
      ]
    },
    {
      "cell_type": "markdown",
      "metadata": {
        "id": "gVrcRvHz0Tub"
      },
      "source": [
        "En este caso, el mínimo de la función está en el atributo *fun* de la variable solución y el minimizador se encuentra en el atributo *x*. Dado que inicialmente se buscaba maximizar la ganancia se toma el negativo del atributo *fun* como ganancia. Es decir, la ganancia máxima que se puede lograr es de 1300 y se logra vendiendo 10 sillas y 8 mesas. Esta es una solución que satisface las restricciones y maximiza las ganancias obtenidas."
      ]
    },
    {
      "cell_type": "markdown",
      "metadata": {
        "id": "Ih4nddeI0Tk2"
      },
      "source": [
        "# **Ejercicios**"
      ]
    },
    {
      "cell_type": "markdown",
      "metadata": {
        "id": "_oQVCGQU1JDz"
      },
      "source": [
        "**1.** Asuma que realizó una ampliación de la fábrica e invirtió más dinero para obtener más materia prima y ahora tiene 80 unidades de recursos disponibles y 50 horas de trabajo disponibles. Modifique el siguiente código para que refleje los cambios descritos anteriormente:"
      ]
    },
    {
      "cell_type": "code",
      "execution_count": null,
      "metadata": {
        "id": "5AheqjQZzU4c"
      },
      "outputs": [],
      "source": [
        "c = [-50,-100]\n",
        "\n",
        "A = [[2,5],[1,2],[1,0]]\n",
        "\n",
        "#Modifique el siguiente vector teniendo en cuenta los valores dados en el enunciado.\n",
        "b = [60,40,10]\n",
        "\n",
        "bounds = [(0,None),(0,None)]\n",
        "\n",
        "solucion = linprog(c,A_ub = A, b_ub = b, bounds=bounds)\n",
        "\n",
        "solucion"
      ]
    },
    {
      "cell_type": "markdown",
      "metadata": {
        "id": "wTGJvS121rQl"
      },
      "source": [
        "**2.** Responda:\n",
        "\n",
        "- ¿Cuál es la ganancia máxima de la empresa bajo las nuevas condiciones?\n",
        "\n",
        "- ¿Cuántas unidades de cada producto deben ser vendidas para lograr esta nueva ganancia?"
      ]
    },
    {
      "cell_type": "code",
      "execution_count": null,
      "metadata": {
        "id": "CVJK8tE5122M"
      },
      "outputs": [],
      "source": []
    }
  ],
  "metadata": {
    "colab": {
      "provenance": []
    },
    "kernelspec": {
      "display_name": "Python 3",
      "name": "python3"
    },
    "language_info": {
      "name": "python"
    }
  },
  "nbformat": 4,
  "nbformat_minor": 0
}
