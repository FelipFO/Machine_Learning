{
 "cells": [
  {
   "cell_type": "markdown",
   "metadata": {
    "deletable": false,
    "editable": false,
    "nbgrader": {
     "cell_type": "markdown",
     "checksum": "9e7fab690a1c2c382bf43a1bd5319393",
     "grade": false,
     "grade_id": "cell-8ffd5e82fe85e62c",
     "locked": true,
     "schema_version": 3,
     "solution": false,
     "task": false
    }
   },
   "source": [
    "# Laboratorio: Principios de RDF y RDFs\n",
    "\n",
    "Objetivos:\n",
    "\n",
    "*\tEjercitar modelamiento básico mediante RDF Schema.\n",
    "*\tRealizar representaciones graficas de los modelos RDF.\n",
    "*\tEmplear herramientas de validación y conversión de documentos RDF.\n",
    "*\tFamiliarizarse con el uso y definición de vocabulario, prefijos y URIs.\n",
    "\n",
    "En este laboratorio vamos a considerar el siguiente enunciado corto:\n",
    "\n",
    "**Samanta es una persona que le gusta leer libros.\n",
    "A Samanta le gustan los libros de romance como \"El amor en los tiempos de cólera\".\n",
    "El amor en los tiempos de cólera fue escrito por Gabriel García Márquez.**\n",
    "\n",
    "Nuestro objetivo es modelar el enunciado y representar el conocimiento inherente usando RDF y RDFs. Para ello vamos a usar Python y la libreria rdflib. \n",
    "\n",
    "\n"
   ]
  },
  {
   "cell_type": "code",
   "execution_count": 7,
   "metadata": {
    "deletable": false,
    "editable": false,
    "nbgrader": {
     "cell_type": "code",
     "checksum": "3036ee118301a42c4c2697ba535bd98f",
     "grade": false,
     "grade_id": "cell-886057ffccd13475",
     "locked": true,
     "schema_version": 3,
     "solution": false,
     "task": false
    }
   },
   "outputs": [],
   "source": [
    "# Importación de librerías, no olviden ejecutar esta celda.\n",
    "from rdflib import Graph, Literal, RDF, URIRef, Namespace"
   ]
  },
  {
   "cell_type": "markdown",
   "metadata": {
    "deletable": false,
    "editable": false,
    "nbgrader": {
     "cell_type": "markdown",
     "checksum": "e669e3d4035d183859d3cefc11e9c2d9",
     "grade": false,
     "grade_id": "cell-5ad3f4af1b83e64a",
     "locked": true,
     "schema_version": 3,
     "solution": false,
     "task": false
    }
   },
   "source": [
    "## Paso 1: Definición de espacio de nombres"
   ]
  },
  {
   "cell_type": "markdown",
   "metadata": {
    "deletable": false,
    "editable": false,
    "nbgrader": {
     "cell_type": "markdown",
     "checksum": "414be1094b33225a23217a28e99cc7ed",
     "grade": false,
     "grade_id": "cell-9b0dc222f612f135",
     "locked": true,
     "schema_version": 3,
     "solution": false,
     "task": false
    }
   },
   "source": [
    "Nuestro primer paso es definir los siguientes prefijos:\n",
    "\n",
    "* @prefix rdf: <http://www.w3.org/1999/02/22-rdf-syntax-ns#> .\n",
    "* @prefix rdfs: <http://www.w3.org/2000/01/rdf-schema#> .\n",
    "* @prefix uex: <http://www.uniandes.web.semantica.example.org/> .\n",
    "* @prefix uexvocab: <http://www.uniandes.web.semantica.ejemplo.org/voca#> . \n",
    "\n",
    "Los últimos dos prefijos son uex y uexvocab son espacios de nombre propios de la ontología que vamos a construir. El primero lo usaremos pare definir instancias y el segundo para definición de nuestro vocabulario (i.e. clases, propiedades, etc)."
   ]
  },
  {
   "cell_type": "code",
   "execution_count": 8,
   "metadata": {
    "deletable": false,
    "editable": false,
    "nbgrader": {
     "cell_type": "code",
     "checksum": "755c2b714bc1a3d376b1e1e188ee8e4b",
     "grade": false,
     "grade_id": "cell-4d30e6986cefaa89",
     "locked": true,
     "schema_version": 3,
     "solution": false,
     "task": false
    }
   },
   "outputs": [
    {
     "name": "stdout",
     "output_type": "stream",
     "text": [
      "owl http://www.w3.org/2002/07/owl#\n",
      "rdf http://www.w3.org/1999/02/22-rdf-syntax-ns#\n",
      "rdfs http://www.w3.org/2000/01/rdf-schema#\n",
      "xsd http://www.w3.org/2001/XMLSchema#\n",
      "xml http://www.w3.org/XML/1998/namespace\n",
      "uex http://www.uniandes.web.semantica.example.org/\n"
     ]
    }
   ],
   "source": [
    "from rdflib.namespace import RDF, RDFS\n",
    "\n",
    "g = Graph() # Todo comienza con la definición de un grafo RDF\n",
    "# RDFLib ya tiene definido los espacios de nombres mas conocidos, simplemente los debemos vincular a un prefijo\n",
    "g.bind(\"rdf\", RDF) # vincular un espacio de nombres proporcionado por RDFLib a un prefijo\n",
    "g.bind(\"rdfs\", RDFS) # vincular un espacio de nombres proporcionado por RDFLib a un prefijo\n",
    "\n",
    "# Para un espacio de nombre no existente en RDFLib simplemente lo definimos usando el método Namespace y lo vinculamos\n",
    "UEX = Namespace(\"http://www.uniandes.web.semantica.example.org/\")\n",
    "g.bind(\"uex\", UEX)\n",
    "\n",
    "#Veamos que prefijos hasta el momento tiene nuestro grafo\n",
    "for ns_prefix, namespace in g.namespaces():\n",
    "    print(ns_prefix,namespace)"
   ]
  },
  {
   "cell_type": "markdown",
   "metadata": {
    "deletable": false,
    "editable": false,
    "nbgrader": {
     "cell_type": "markdown",
     "checksum": "59c48cc72458bbf746892ff76c238a20",
     "grade": false,
     "grade_id": "cell-354277c68f39632d",
     "locked": true,
     "schema_version": 3,
     "solution": false,
     "task": false
    }
   },
   "source": [
    "**Pregunta 1 (10p):** Cree el espacio de nombres uexvocab (http://www.uniandes.web.semantica.ejemplo.org/voca#) y vinculelo al grafo RDF. Use como nombre de variable del namespace *UEXVOCAB* (notese la capitalización de las letras). "
   ]
  },
  {
   "cell_type": "code",
   "execution_count": 9,
   "metadata": {
    "deletable": false,
    "nbgrader": {
     "cell_type": "code",
     "checksum": "b4da36d7333c1655290d7c24be8e6e6f",
     "grade": false,
     "grade_id": "cell-730ed531bf184a1c",
     "locked": false,
     "schema_version": 3,
     "solution": true,
     "task": false
    }
   },
   "outputs": [
    {
     "name": "stdout",
     "output_type": "stream",
     "text": [
      "owl http://www.w3.org/2002/07/owl#\n",
      "rdf http://www.w3.org/1999/02/22-rdf-syntax-ns#\n",
      "rdfs http://www.w3.org/2000/01/rdf-schema#\n",
      "xsd http://www.w3.org/2001/XMLSchema#\n",
      "xml http://www.w3.org/XML/1998/namespace\n",
      "uex http://www.uniandes.web.semantica.example.org/\n",
      "uexvocab http://www.uniandes.web.semantica.ejemplo.org/voca#\n"
     ]
    }
   ],
   "source": [
    "# Por favor en esta celda conteste la Pregunta 1.\n",
    "\n",
    "#Espacio de nombres UEXVOCAB\n",
    "UEXVOCAB = Namespace(\"http://www.uniandes.web.semantica.ejemplo.org/voca#\")\n",
    "g.bind(\"uexvocab\", UEXVOCAB)\n",
    "\n",
    "# Prefijos y espacios de nombres para verificar\n",
    "for ns_prefix, namespace in g.namespaces():\n",
    "    print(ns_prefix, namespace)\n"
   ]
  },
  {
   "cell_type": "code",
   "execution_count": 10,
   "metadata": {
    "deletable": false,
    "editable": false,
    "nbgrader": {
     "cell_type": "code",
     "checksum": "6449aff87786f46e14ca34f74b874b21",
     "grade": true,
     "grade_id": "cell-499868adcf08ea65",
     "locked": true,
     "points": 10,
     "schema_version": 3,
     "solution": false,
     "task": false
    }
   },
   "outputs": [],
   "source": [
    "## PRUEBAS OCULTAS PARA CALIFICACIÓN PREGUNTA 1"
   ]
  },
  {
   "cell_type": "markdown",
   "metadata": {
    "deletable": false,
    "editable": false,
    "nbgrader": {
     "cell_type": "markdown",
     "checksum": "551bc963ce983b3e7fc2c675d6076189",
     "grade": false,
     "grade_id": "cell-e242e257708f0d69",
     "locked": true,
     "schema_version": 3,
     "solution": false,
     "task": false
    }
   },
   "source": [
    "## Paso 2: Definición de clases\n",
    "\n",
    "De nuestro enunciado podemos identificar las siguientes clases: Persona, Libro, Libros_de_Romance, y Autor. Vamos a proceder creando estas clases dentro de nuestro grafo, usando la definición de tipo rdfs:Class. Para cada clase debemos por lo tanto crear los siguientes triples:\n",
    "\n",
    "* *uexvocab:Persona rdf:type rdfs:Class .*\n",
    "* *uexvocab:Libro rdf:type rdfs:Class .*\n",
    "* *uexvocab:Libros_de_Romance rdf:type rdfs:Class .*\n",
    "* *uexvocab:Autor rdf:type rdfs:Class .*"
   ]
  },
  {
   "cell_type": "code",
   "execution_count": 11,
   "metadata": {
    "deletable": false,
    "editable": false,
    "nbgrader": {
     "cell_type": "code",
     "checksum": "b3f6142b75c79bfccdc39a6738f7703b",
     "grade": false,
     "grade_id": "cell-0d0e4f604a96f3de",
     "locked": true,
     "schema_version": 3,
     "solution": false,
     "task": false
    }
   },
   "outputs": [
    {
     "data": {
      "text/plain": [
       "<Graph identifier=N2438c9ff1e0c4638996eb917dd122455 (<class 'rdflib.graph.Graph'>)>"
      ]
     },
     "execution_count": 11,
     "metadata": {},
     "output_type": "execute_result"
    }
   ],
   "source": [
    "## Con el método add podemos añadir nuevas triples al grafo\n",
    "# Esta celda puede generar error si no definio correctamente el espacio de nombres UEXVOCAB\n",
    "g.add((UEXVOCAB.Persona, RDF.type, RDFS.Class))\n",
    "g.add((UEXVOCAB.Libro, RDF.type, RDFS.Class))\n",
    "g.add((UEXVOCAB.Libros_de_Romance, RDF.type, RDFS.Class))"
   ]
  },
  {
   "cell_type": "code",
   "execution_count": 12,
   "metadata": {
    "deletable": false,
    "editable": false,
    "nbgrader": {
     "cell_type": "code",
     "checksum": "b76bc2ee5d206f75f97431f651440197",
     "grade": false,
     "grade_id": "cell-1ec9d3f274610610",
     "locked": true,
     "schema_version": 3,
     "solution": false,
     "task": false
    }
   },
   "outputs": [
    {
     "name": "stdout",
     "output_type": "stream",
     "text": [
      "@prefix rdfs: <http://www.w3.org/2000/01/rdf-schema#> .\n",
      "@prefix uexvocab: <http://www.uniandes.web.semantica.ejemplo.org/voca#> .\n",
      "\n",
      "uexvocab:Libro a rdfs:Class .\n",
      "\n",
      "uexvocab:Libros_de_Romance a rdfs:Class .\n",
      "\n",
      "uexvocab:Persona a rdfs:Class .\n",
      "\n",
      "\n"
     ]
    }
   ],
   "source": [
    "## Serialicemos en formato TTL (turtle) para ver como va nuestro grafo\n",
    "print(g.serialize(format='n3'))"
   ]
  },
  {
   "cell_type": "markdown",
   "metadata": {
    "deletable": false,
    "editable": false,
    "nbgrader": {
     "cell_type": "markdown",
     "checksum": "b22bdd7030dc2a2406b11f80cd2da8d8",
     "grade": false,
     "grade_id": "cell-119c9cbc52b2d436",
     "locked": true,
     "schema_version": 3,
     "solution": false,
     "task": false
    }
   },
   "source": [
    "**Pregunta 2 (10p):** Hace falta definir la clase autor. Defina el triple y añadalo al grafo."
   ]
  },
  {
   "cell_type": "code",
   "execution_count": 15,
   "metadata": {
    "deletable": false,
    "nbgrader": {
     "cell_type": "code",
     "checksum": "ed0e8d3c837401f20bcbf335969c9536",
     "grade": false,
     "grade_id": "cell-8d11c4bf1865dbb5",
     "locked": false,
     "schema_version": 3,
     "solution": true,
     "task": false
    }
   },
   "outputs": [
    {
     "name": "stdout",
     "output_type": "stream",
     "text": [
      "@prefix rdfs: <http://www.w3.org/2000/01/rdf-schema#> .\n",
      "@prefix uexvocab: <http://www.uniandes.web.semantica.ejemplo.org/voca#> .\n",
      "\n",
      "uexvocab:Autor a rdfs:Class .\n",
      "\n",
      "uexvocab:Libro a rdfs:Class .\n",
      "\n",
      "uexvocab:Libros_de_Romance a rdfs:Class .\n",
      "\n",
      "uexvocab:Persona a rdfs:Class .\n",
      "\n",
      "\n"
     ]
    }
   ],
   "source": [
    "# Añadir la clase Autor al grafo\n",
    "g.add((UEXVOCAB.Autor, RDF.type, RDFS.Class))\n",
    "\n",
    "# Serializar y mostrar el grafo en formato Turtle para revisar\n",
    "print(g.serialize(format='turtle'))\n"
   ]
  },
  {
   "cell_type": "code",
   "execution_count": 16,
   "metadata": {
    "deletable": false,
    "editable": false,
    "nbgrader": {
     "cell_type": "code",
     "checksum": "39d849b8ea858da028e302879e700b1f",
     "grade": true,
     "grade_id": "cell-4d438805eb45a558",
     "locked": true,
     "points": 10,
     "schema_version": 3,
     "solution": false,
     "task": false
    }
   },
   "outputs": [],
   "source": [
    "## PRUEBAS OCULTAS PARA CALIFICACIÓN PREGUNTA 2"
   ]
  },
  {
   "cell_type": "markdown",
   "metadata": {
    "deletable": false,
    "editable": false,
    "nbgrader": {
     "cell_type": "markdown",
     "checksum": "bda05d6aa88cc36652dd1400deb96c9c",
     "grade": false,
     "grade_id": "cell-ba2e262570027e39",
     "locked": true,
     "schema_version": 3,
     "solution": false,
     "task": false
    }
   },
   "source": [
    "## Paso 3: Definición de propiedades\n",
    "\n",
    "Para la definición de propiedades es fundamental identificar los predicados (verbos) en el enunciado. Del enunciado se pueden identificar: lee, esUna, gusta, esAutorDe, y esCreadorDe. Se definiran por lo tanto los siguientes triples:\n",
    "\n",
    "* *uexvocab:lee rdf:type rdf:Property .*\n",
    "* *uexvocab:esUna rdf:type rdf:Property .*\n",
    "* *uexvocab:gusta rdf:type rdf:Property .*\n",
    "* *uexvocab:esAutorDe rdf:type rdf:Property .*\n",
    "* *uexvocab:esCreadorDe rdf:type rdf:Property .*\n"
   ]
  },
  {
   "cell_type": "code",
   "execution_count": null,
   "metadata": {
    "deletable": false,
    "editable": false,
    "nbgrader": {
     "cell_type": "code",
     "checksum": "cce6b4ecdc98556e0133ba90d2900526",
     "grade": false,
     "grade_id": "cell-efd9e49541f6fc16",
     "locked": true,
     "schema_version": 3,
     "solution": false,
     "task": false
    }
   },
   "outputs": [],
   "source": [
    "## Agregamos algunos de los triples de definición de propiedades al grafo.\n",
    "g.add((UEXVOCAB.lee, RDF.type, RDF.Property ))\n",
    "g.add((UEXVOCAB.esUna, RDF.type, RDF.Property ))\n",
    "g.add((UEXVOCAB.gusta, RDF.type, RDF.Property ))\n",
    "g.add((UEXVOCAB.esAutorDe, RDF.type, RDF.Property  ))\n"
   ]
  },
  {
   "cell_type": "code",
   "execution_count": null,
   "metadata": {
    "deletable": false,
    "editable": false,
    "nbgrader": {
     "cell_type": "code",
     "checksum": "a978069e2c9a5547519e443ee149e8f3",
     "grade": false,
     "grade_id": "cell-820c64abb63765d6",
     "locked": true,
     "schema_version": 3,
     "solution": false,
     "task": false
    }
   },
   "outputs": [],
   "source": [
    "## Serialicemos en formato TTL (turtle) para ver como va nuestro grafo\n",
    "print(g.serialize(format='n3'))"
   ]
  },
  {
   "cell_type": "markdown",
   "metadata": {
    "deletable": false,
    "editable": false,
    "nbgrader": {
     "cell_type": "markdown",
     "checksum": "234f0550b1ce8c90061e1398cf774dab",
     "grade": false,
     "grade_id": "cell-ce5cbc1887bf9ba3",
     "locked": true,
     "schema_version": 3,
     "solution": false,
     "task": false
    }
   },
   "source": [
    "**Pregunta 3 (10p):** Hace falta definir la propiedad esCreadorDe. Defina el triple y añadalo al grafo."
   ]
  },
  {
   "cell_type": "code",
   "execution_count": 17,
   "metadata": {
    "deletable": false,
    "nbgrader": {
     "cell_type": "code",
     "checksum": "2b58be04f2d81bff7628b22631bcdbd7",
     "grade": false,
     "grade_id": "cell-d10ec050c2efa04d",
     "locked": false,
     "schema_version": 3,
     "solution": true,
     "task": false
    }
   },
   "outputs": [
    {
     "name": "stdout",
     "output_type": "stream",
     "text": [
      "@prefix rdf: <http://www.w3.org/1999/02/22-rdf-syntax-ns#> .\n",
      "@prefix rdfs: <http://www.w3.org/2000/01/rdf-schema#> .\n",
      "@prefix uexvocab: <http://www.uniandes.web.semantica.ejemplo.org/voca#> .\n",
      "\n",
      "uexvocab:Autor a rdfs:Class .\n",
      "\n",
      "uexvocab:Libro a rdfs:Class .\n",
      "\n",
      "uexvocab:Libros_de_Romance a rdfs:Class .\n",
      "\n",
      "uexvocab:Persona a rdfs:Class .\n",
      "\n",
      "uexvocab:esCreadorDe a rdf:Property .\n",
      "\n",
      "\n"
     ]
    }
   ],
   "source": [
    "# Por favor en esta celda conteste la Pregunta 3.\n",
    "\n",
    "# your code here\n",
    "\n",
    "# Añadir la propiedad esCreadorDe al grafo\n",
    "g.add((UEXVOCAB.esCreadorDe, RDF.type, RDF.Property))\n",
    "\n",
    "# Serializar y mostrar el grafo en formato Turtle para revisar\n",
    "print(g.serialize(format='turtle'))"
   ]
  },
  {
   "cell_type": "code",
   "execution_count": 18,
   "metadata": {
    "deletable": false,
    "editable": false,
    "nbgrader": {
     "cell_type": "code",
     "checksum": "9c916f9c82d187415173e131528de91c",
     "grade": true,
     "grade_id": "cell-adc104df5f4a94b5",
     "locked": true,
     "points": 10,
     "schema_version": 3,
     "solution": false,
     "task": false
    }
   },
   "outputs": [],
   "source": [
    "## PRUEBAS OCULTAS PARA CALIFICACIÓN PREGUNTA 3"
   ]
  },
  {
   "cell_type": "markdown",
   "metadata": {
    "deletable": false,
    "editable": false,
    "nbgrader": {
     "cell_type": "markdown",
     "checksum": "1b7006f79faa15a3e17bc58a0feaaf14",
     "grade": false,
     "grade_id": "cell-a157817e188e162c",
     "locked": true,
     "schema_version": 3,
     "solution": false,
     "task": false
    }
   },
   "source": [
    "## Paso 4: Definición de jerarquía de propiedades/clases, asi como restricciones de dominio y rango.\n",
    "\n",
    "Jerarquía de propiedades: \n",
    "* *uexvocab:esAutorDe rdfs:subPropertyOf uexvocab:esCreadorDe .* (subpropiedad)\n",
    "\n",
    "Jerarquía de clases:\n",
    "* *uexvocab:Libros_de_Romance rdfs:subClassOf uexvocab:Libro .* (subclase)\n",
    "* *uexvocab:Autor rdfs:subClassOf uexvocab:Persona .*  (subclase)\n",
    "\n",
    "Restricciones de dominio:\n",
    "* *uexvocab:lee rdfs:domain uexvocab:Persona .* (La acción *lee* solo puede ser atribuida a una instancia tipo persona)\n",
    "* *uexvocab: rdfs:domain uexvocab:Persona  .* (La acción leer *esCreadorDe* puede ser atribuida a una instancia tipo persona)\n",
    "* *uexvocab:esAutorDe rdfs:range uexvocab:Libro .* (El objeto de la acción *esAutorDe* debe recaer sobre una instancia de tipo libro)\n"
   ]
  },
  {
   "cell_type": "code",
   "execution_count": null,
   "metadata": {
    "deletable": false,
    "editable": false,
    "nbgrader": {
     "cell_type": "code",
     "checksum": "291c8c74da8cc6a3392603b9823369c9",
     "grade": false,
     "grade_id": "cell-6cdf4b0ed2f7b281",
     "locked": true,
     "schema_version": 3,
     "solution": false,
     "task": false
    }
   },
   "outputs": [],
   "source": [
    "## Agregamos algunos de los triples al grafo.\n",
    "g.add((UEXVOCAB.esAutorDe, RDFS.subPropertyOf, UEXVOCAB.esCreadorDe ))\n",
    "g.add((UEXVOCAB.Autor, RDFS.subClassOf, UEXVOCAB.Persona  ))\n",
    "g.add((UEXVOCAB.lee, RDFS.domain, UEXVOCAB.Persona  ))\n",
    "g.add((UEXVOCAB.esCreadorDe, RDFS.domain, UEXVOCAB.Persona  ))\n",
    "g.add((UEXVOCAB.esAutorDe, RDFS.range, UEXVOCAB.Libro  ))"
   ]
  },
  {
   "cell_type": "markdown",
   "metadata": {
    "deletable": false,
    "editable": false,
    "nbgrader": {
     "cell_type": "markdown",
     "checksum": "2b6ab428cc1b9cecf512e9e66838457a",
     "grade": false,
     "grade_id": "cell-80e2eae8195182b5",
     "locked": true,
     "schema_version": 3,
     "solution": false,
     "task": false
    }
   },
   "source": [
    "**Pregunta 4 (10p)**: Hace falta definir que la clase Libros_de_Romance es una subclase de Libro (*uexvocab:Libros_de_Romance rdfs:subClassOf uexvocab:Libro*). Defina el triple y añadalo al grafo."
   ]
  },
  {
   "cell_type": "code",
   "execution_count": 19,
   "metadata": {
    "deletable": false,
    "nbgrader": {
     "cell_type": "code",
     "checksum": "a8c5103bce3e5134fd8e5b4236550099",
     "grade": false,
     "grade_id": "cell-e1d7bbe5691598fc",
     "locked": false,
     "schema_version": 3,
     "solution": true,
     "task": false
    }
   },
   "outputs": [
    {
     "name": "stdout",
     "output_type": "stream",
     "text": [
      "@prefix rdf: <http://www.w3.org/1999/02/22-rdf-syntax-ns#> .\n",
      "@prefix rdfs: <http://www.w3.org/2000/01/rdf-schema#> .\n",
      "@prefix uexvocab: <http://www.uniandes.web.semantica.ejemplo.org/voca#> .\n",
      "\n",
      "uexvocab:Autor a rdfs:Class .\n",
      "\n",
      "uexvocab:Libro a rdfs:Class .\n",
      "\n",
      "uexvocab:Libros_de_Romance a rdfs:Class ;\n",
      "    rdfs:subClassOf uexvocab:Libro .\n",
      "\n",
      "uexvocab:Persona a rdfs:Class .\n",
      "\n",
      "uexvocab:esCreadorDe a rdf:Property .\n",
      "\n",
      "\n"
     ]
    }
   ],
   "source": [
    "# Por favor en esta celda conteste la Pregunta 4.\n",
    "\n",
    "# your code here\n",
    "\n",
    "# Añadir el triple que define Libros_de_Romance como subclase de Libro\n",
    "g.add((UEXVOCAB.Libros_de_Romance, RDFS.subClassOf, UEXVOCAB.Libro))\n",
    "\n",
    "# Serializar y mostrar el grafo en formato Turtle para revisar\n",
    "print(g.serialize(format='turtle'))\n"
   ]
  },
  {
   "cell_type": "code",
   "execution_count": 20,
   "metadata": {
    "deletable": false,
    "editable": false,
    "nbgrader": {
     "cell_type": "code",
     "checksum": "6ea9a48f7b6cc6fab3095932f2f19e8d",
     "grade": true,
     "grade_id": "cell-a14d3fe5b8d46196",
     "locked": true,
     "points": 10,
     "schema_version": 3,
     "solution": false,
     "task": false
    }
   },
   "outputs": [],
   "source": [
    "## PRUEBAS OCULTAS PARA CALIFICACIÓN PREGUNTA 4"
   ]
  },
  {
   "cell_type": "markdown",
   "metadata": {
    "deletable": false,
    "editable": false,
    "nbgrader": {
     "cell_type": "markdown",
     "checksum": "3b97f74d926c31227f94b96aaf867b64",
     "grade": false,
     "grade_id": "cell-17dd7a5924e0ae88",
     "locked": true,
     "schema_version": 3,
     "solution": false,
     "task": false
    }
   },
   "source": [
    "## Paso 5: Definición de instancias\n",
    "\n",
    "Llegamos al paso final de nuestro modelamiento!!!, vamos a definir las instancias de nuestra ontología. Según nuestro enunciado debemos definir las instancias: \n",
    "\n",
    "* uex:Samanta\n",
    "* uex:El_amor_en_los_tiempos_de_colera\n",
    "* uex:Gabriel_Garcia_Marquez\n",
    "\n",
    "Para la definición debemos especificar su pertenencia a alguna de nuestras clases, por lo tanto se deben definir los triples:\n",
    "\n",
    "\n",
    "* *uex:Samanta rdf:type uexvocab:Persona .*\n",
    "* *uex:El_amor_en_los_tiempos_de_colera rdf:type uexvocab:Libros_de_Romance .*\n",
    "* *uex:Gabriel_Garcia_Marquez rdf:type uexvocab:Autor .*"
   ]
  },
  {
   "cell_type": "code",
   "execution_count": 21,
   "metadata": {
    "deletable": false,
    "editable": false,
    "nbgrader": {
     "cell_type": "code",
     "checksum": "fabb0b9932c3d4dbadb05b3e020f57fe",
     "grade": false,
     "grade_id": "cell-218d0a0a82fbe548",
     "locked": true,
     "schema_version": 3,
     "solution": false,
     "task": false
    }
   },
   "outputs": [
    {
     "data": {
      "text/plain": [
       "<Graph identifier=N2438c9ff1e0c4638996eb917dd122455 (<class 'rdflib.graph.Graph'>)>"
      ]
     },
     "execution_count": 21,
     "metadata": {},
     "output_type": "execute_result"
    }
   ],
   "source": [
    "## Agregamos los triples de definición de instancias al grafo.\n",
    "g.add((UEX.Samanta, RDF.type, UEXVOCAB.Persona ))\n",
    "g.add((UEX.El_amor_en_los_tiempos_de_colera, RDF.type, UEXVOCAB.Libros_de_Romance ))\n",
    "g.add((UEX.Gabriel_Garcia_Marquez, RDF.type, UEXVOCAB.Autor  ))"
   ]
  },
  {
   "cell_type": "markdown",
   "metadata": {
    "deletable": false,
    "editable": false,
    "nbgrader": {
     "cell_type": "markdown",
     "checksum": "aa3f232a0665a08b1bee883680cfc8cb",
     "grade": false,
     "grade_id": "cell-6173f10fdc3872a7",
     "locked": true,
     "schema_version": 3,
     "solution": false,
     "task": false
    }
   },
   "source": [
    "**Pregunta 5 (10p)**: Hace falta definir las relaciones entre las instancias a través de las propiedadesde nuestra ontología, esto es:\n",
    "\n",
    "* *uex:Gabriel_Garcia_Marquez uexvocab:esAutorDe uex:El_amor_en_los_tiempos_de_colera .*  \n",
    "* *uex:Samanta uexvocab:lee uex:El_amor_en_los_tiempos_de_colera*\n",
    "\n",
    "Defina los triples y añadalos al grafo."
   ]
  },
  {
   "cell_type": "code",
   "execution_count": 22,
   "metadata": {
    "deletable": false,
    "nbgrader": {
     "cell_type": "code",
     "checksum": "0e07db455da1e2a25fe11e1337c014c1",
     "grade": false,
     "grade_id": "cell-7fd997624361ebfe",
     "locked": false,
     "schema_version": 3,
     "solution": true,
     "task": false
    }
   },
   "outputs": [
    {
     "name": "stdout",
     "output_type": "stream",
     "text": [
      "@prefix rdf: <http://www.w3.org/1999/02/22-rdf-syntax-ns#> .\n",
      "@prefix rdfs: <http://www.w3.org/2000/01/rdf-schema#> .\n",
      "@prefix uex: <http://www.uniandes.web.semantica.example.org/> .\n",
      "@prefix uexvocab: <http://www.uniandes.web.semantica.ejemplo.org/voca#> .\n",
      "\n",
      "uexvocab:Autor a rdfs:Class .\n",
      "\n",
      "uexvocab:Libro a rdfs:Class .\n",
      "\n",
      "uexvocab:Libros_de_Romance a rdfs:Class ;\n",
      "    rdfs:subClassOf uexvocab:Libro .\n",
      "\n",
      "uexvocab:Persona a rdfs:Class .\n",
      "\n",
      "uexvocab:esCreadorDe a rdf:Property .\n",
      "\n",
      "uex:Gabriel_Garcia_Marquez a uexvocab:Autor ;\n",
      "    uexvocab:esAutorDe uex:El_amor_en_los_tiempos_de_colera .\n",
      "\n",
      "uex:Samanta a uexvocab:Persona ;\n",
      "    uexvocab:lee uex:El_amor_en_los_tiempos_de_colera .\n",
      "\n",
      "uex:El_amor_en_los_tiempos_de_colera a uexvocab:Libros_de_Romance .\n",
      "\n",
      "\n"
     ]
    }
   ],
   "source": [
    "# Por favor en esta celda conteste la Pregunta 5.\n",
    "\n",
    "# your code here\n",
    "\n",
    "# Añadir los triples que definen las relaciones entre las instancias\n",
    "g.add((UEX.Gabriel_Garcia_Marquez, UEXVOCAB.esAutorDe, UEX.El_amor_en_los_tiempos_de_colera))\n",
    "g.add((UEX.Samanta, UEXVOCAB.lee, UEX.El_amor_en_los_tiempos_de_colera))\n",
    "\n",
    "# Serializar y mostrar el grafo en formato Turtle para revisar\n",
    "print(g.serialize(format='turtle'))"
   ]
  },
  {
   "cell_type": "code",
   "execution_count": 23,
   "metadata": {
    "deletable": false,
    "editable": false,
    "nbgrader": {
     "cell_type": "code",
     "checksum": "eca97b2f121dfcedebac8e184d234aed",
     "grade": true,
     "grade_id": "cell-00ee5212a7073264",
     "locked": true,
     "points": 10,
     "schema_version": 3,
     "solution": false,
     "task": false
    }
   },
   "outputs": [],
   "source": [
    "## PRUEBAS OCULTAS PARA CALIFICACIÓN PREGUNTA 5"
   ]
  },
  {
   "cell_type": "markdown",
   "metadata": {
    "deletable": false,
    "editable": false,
    "nbgrader": {
     "cell_type": "markdown",
     "checksum": "d397d1b58a5b242468bf9c7b7ddca1b6",
     "grade": false,
     "grade_id": "cell-76b2c18ba4b036d9",
     "locked": true,
     "schema_version": 3,
     "solution": false,
     "task": false
    }
   },
   "source": [
    "## Grafo en formato turtle y validadores"
   ]
  },
  {
   "cell_type": "code",
   "execution_count": 24,
   "metadata": {
    "deletable": false,
    "editable": false,
    "nbgrader": {
     "cell_type": "code",
     "checksum": "210f2ec3290dca03d1cd7484632b8958",
     "grade": false,
     "grade_id": "cell-3c9e54ac1e617393",
     "locked": true,
     "schema_version": 3,
     "solution": false,
     "task": false
    }
   },
   "outputs": [
    {
     "name": "stdout",
     "output_type": "stream",
     "text": [
      "@prefix rdf: <http://www.w3.org/1999/02/22-rdf-syntax-ns#> .\n",
      "@prefix rdfs: <http://www.w3.org/2000/01/rdf-schema#> .\n",
      "@prefix uex: <http://www.uniandes.web.semantica.example.org/> .\n",
      "@prefix uexvocab: <http://www.uniandes.web.semantica.ejemplo.org/voca#> .\n",
      "\n",
      "uexvocab:Autor a rdfs:Class .\n",
      "\n",
      "uexvocab:Libro a rdfs:Class .\n",
      "\n",
      "uexvocab:Libros_de_Romance a rdfs:Class ;\n",
      "    rdfs:subClassOf uexvocab:Libro .\n",
      "\n",
      "uexvocab:Persona a rdfs:Class .\n",
      "\n",
      "uexvocab:esCreadorDe a rdf:Property .\n",
      "\n",
      "uex:Gabriel_Garcia_Marquez a uexvocab:Autor ;\n",
      "    uexvocab:esAutorDe uex:El_amor_en_los_tiempos_de_colera .\n",
      "\n",
      "uex:Samanta a uexvocab:Persona ;\n",
      "    uexvocab:lee uex:El_amor_en_los_tiempos_de_colera .\n",
      "\n",
      "uex:El_amor_en_los_tiempos_de_colera a uexvocab:Libros_de_Romance .\n",
      "\n",
      "\n"
     ]
    }
   ],
   "source": [
    "## Vamos a imprimir nuestro documento final en turtle.\n",
    "print(g.serialize(format='n3'))"
   ]
  },
  {
   "cell_type": "markdown",
   "metadata": {
    "deletable": false,
    "editable": false,
    "nbgrader": {
     "cell_type": "markdown",
     "checksum": "4cfa26c2691e81b31438a048ca8b0716",
     "grade": false,
     "grade_id": "cell-1e07d8545c7755f8",
     "locked": true,
     "schema_version": 3,
     "solution": false,
     "task": false
    }
   },
   "source": [
    "### Validador\n",
    "\n",
    "Existen muchos validadores RDF que nos permiten verificar la validez sintáctica de nuestro documento. El usar RDFlib ya es una garantía de la definición correcta triples, si embargo es bueno conocer herramientas externas como:\n",
    "\n",
    "http://ttl.summerofcode.be/\n",
    "\n",
    "Copie todas las líneas del documento turtle en la ventana del validador y presione el botón VALIDATE. Verá un texto que le confirma que la sintaxis del documento es correcta."
   ]
  },
  {
   "cell_type": "code",
   "execution_count": 25,
   "metadata": {
    "deletable": false,
    "editable": false,
    "nbgrader": {
     "cell_type": "code",
     "checksum": "a2784cb04077a1035d72d6699a2627d7",
     "grade": false,
     "grade_id": "cell-429278842c07fa4e",
     "locked": true,
     "schema_version": 3,
     "solution": false,
     "task": false
    }
   },
   "outputs": [
    {
     "name": "stdout",
     "output_type": "stream",
     "text": [
      "--- printing raw triples ---\n",
      "(rdflib.term.URIRef('http://www.uniandes.web.semantica.ejemplo.org/voca#Persona'), rdflib.term.URIRef('http://www.w3.org/1999/02/22-rdf-syntax-ns#type'), rdflib.term.URIRef('http://www.w3.org/2000/01/rdf-schema#Class'))\n",
      "(rdflib.term.URIRef('http://www.uniandes.web.semantica.example.org/Gabriel_Garcia_Marquez'), rdflib.term.URIRef('http://www.uniandes.web.semantica.ejemplo.org/voca#esAutorDe'), rdflib.term.URIRef('http://www.uniandes.web.semantica.example.org/El_amor_en_los_tiempos_de_colera'))\n",
      "(rdflib.term.URIRef('http://www.uniandes.web.semantica.ejemplo.org/voca#Autor'), rdflib.term.URIRef('http://www.w3.org/1999/02/22-rdf-syntax-ns#type'), rdflib.term.URIRef('http://www.w3.org/2000/01/rdf-schema#Class'))\n",
      "(rdflib.term.URIRef('http://www.uniandes.web.semantica.ejemplo.org/voca#Libro'), rdflib.term.URIRef('http://www.w3.org/1999/02/22-rdf-syntax-ns#type'), rdflib.term.URIRef('http://www.w3.org/2000/01/rdf-schema#Class'))\n",
      "(rdflib.term.URIRef('http://www.uniandes.web.semantica.example.org/Samanta'), rdflib.term.URIRef('http://www.w3.org/1999/02/22-rdf-syntax-ns#type'), rdflib.term.URIRef('http://www.uniandes.web.semantica.ejemplo.org/voca#Persona'))\n",
      "(rdflib.term.URIRef('http://www.uniandes.web.semantica.example.org/Gabriel_Garcia_Marquez'), rdflib.term.URIRef('http://www.w3.org/1999/02/22-rdf-syntax-ns#type'), rdflib.term.URIRef('http://www.uniandes.web.semantica.ejemplo.org/voca#Autor'))\n",
      "(rdflib.term.URIRef('http://www.uniandes.web.semantica.ejemplo.org/voca#esCreadorDe'), rdflib.term.URIRef('http://www.w3.org/1999/02/22-rdf-syntax-ns#type'), rdflib.term.URIRef('http://www.w3.org/1999/02/22-rdf-syntax-ns#Property'))\n",
      "(rdflib.term.URIRef('http://www.uniandes.web.semantica.ejemplo.org/voca#Libros_de_Romance'), rdflib.term.URIRef('http://www.w3.org/2000/01/rdf-schema#subClassOf'), rdflib.term.URIRef('http://www.uniandes.web.semantica.ejemplo.org/voca#Libro'))\n",
      "(rdflib.term.URIRef('http://www.uniandes.web.semantica.example.org/El_amor_en_los_tiempos_de_colera'), rdflib.term.URIRef('http://www.w3.org/1999/02/22-rdf-syntax-ns#type'), rdflib.term.URIRef('http://www.uniandes.web.semantica.ejemplo.org/voca#Libros_de_Romance'))\n",
      "(rdflib.term.URIRef('http://www.uniandes.web.semantica.example.org/Samanta'), rdflib.term.URIRef('http://www.uniandes.web.semantica.ejemplo.org/voca#lee'), rdflib.term.URIRef('http://www.uniandes.web.semantica.example.org/El_amor_en_los_tiempos_de_colera'))\n",
      "(rdflib.term.URIRef('http://www.uniandes.web.semantica.ejemplo.org/voca#Libros_de_Romance'), rdflib.term.URIRef('http://www.w3.org/1999/02/22-rdf-syntax-ns#type'), rdflib.term.URIRef('http://www.w3.org/2000/01/rdf-schema#Class'))\n"
     ]
    }
   ],
   "source": [
    "## En algunas ocacciones imprimir triple por tiple como strings nos permite encontrar errores de codificación y charsets.\n",
    "## Para ellos simplemente debemos recorrer nuestro grafo.\n",
    "print(\"--- printing raw triples ---\")\n",
    "for s, p, o in g:\n",
    "    print((s, p, o))"
   ]
  },
  {
   "cell_type": "markdown",
   "metadata": {
    "deletable": false,
    "editable": false,
    "nbgrader": {
     "cell_type": "markdown",
     "checksum": "6aea0db78ce0d0cd21dd2bfbcbad2116",
     "grade": false,
     "grade_id": "cell-4a1e838a07bb408e",
     "locked": true,
     "schema_version": 3,
     "solution": false,
     "task": false
    }
   },
   "source": [
    "## Felicitaciones ha construido su primera ontología!!\n",
    "\n",
    "Puedes seguir enriqueciendo la ontología agregando nuevos triples!!"
   ]
  }
 ],
 "metadata": {
  "kernelspec": {
   "display_name": "Python 3",
   "language": "python",
   "name": "python3"
  },
  "language_info": {
   "codemirror_mode": {
    "name": "ipython",
    "version": 3
   },
   "file_extension": ".py",
   "mimetype": "text/x-python",
   "name": "python",
   "nbconvert_exporter": "python",
   "pygments_lexer": "ipython3",
   "version": "3.7.6"
  }
 },
 "nbformat": 4,
 "nbformat_minor": 4
}
