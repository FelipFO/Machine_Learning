{
 "cells": [
  {
   "cell_type": "markdown",
   "metadata": {
    "deletable": false,
    "editable": false,
    "nbgrader": {
     "cell_type": "markdown",
     "checksum": "9b4c4a0a100432040812bd70fe49994b",
     "grade": false,
     "grade_id": "cell-a4badc51ed73978f",
     "locked": true,
     "schema_version": 3,
     "solution": false,
     "task": false
    }
   },
   "source": [
    "# Un problema de manipulación de datos y regresión lineal\n",
    "\n",
    "En este laboratorio pondrás a prueba tus conocimientos sobre manipulación de datos, visualización de variables y entrenamiento de modelos de regresión lineal. Particularmente, realizarás los siguientes procedimientos:\n",
    "\n",
    "1. Cargar un conjunto de datos en formato .csv.\n",
    "2. Describir, analizar y preparar los datos para el modelado.\n",
    "3. Entrenar un modelo de regresión lineal.\n",
    "4. Evaluar los modelos resultantes.\n",
    "\n",
    "Nuestro conjunto de datos corresponde a las características y precios de automóviles usados. En ese sentido, queremos predecir el precio de un automóvil dadas sus características técnicas. A lo largo del laboratorio encontrarás múltiples celdas con la siguiente estructura:\n",
    "```python\n",
    "#---------- Celda de pruebas - Ejercicio X.X. ----------\n",
    "# Prueba 1\n",
    "# Prueba 2\n",
    "# ...\n",
    "#-------------------------------------------------------\n",
    "```\n",
    "Estas celdas son utilizadas para calificar tus respuestas después de que realices tu envío, por lo que en ellas encontrarás los puntos específicos que serán evaluados. Asegúrate de no incluir código en estas celdas, ya que cualquier modificación será eliminada automáticamente al momento de realizar la evaluación.\n",
    "\n",
    "Antes de iniciar, es necesario importar las siguientes librerías:"
   ]
  },
  {
   "cell_type": "code",
   "execution_count": 1,
   "metadata": {
    "deletable": false,
    "editable": false,
    "nbgrader": {
     "cell_type": "code",
     "checksum": "926b4bdc8956da0b55f8b5132ff94d5e",
     "grade": false,
     "grade_id": "cell-5720fb7569bb0423",
     "locked": true,
     "schema_version": 3,
     "solution": false,
     "task": false
    }
   },
   "outputs": [],
   "source": [
    "import pandas as pd\n",
    "import numpy as np\n",
    "\n",
    "from sklearn.model_selection import train_test_split\n",
    "from sklearn.linear_model import LinearRegression\n",
    "from sklearn.metrics import mean_squared_error, mean_absolute_error, r2_score"
   ]
  },
  {
   "cell_type": "markdown",
   "metadata": {
    "deletable": false,
    "editable": false,
    "nbgrader": {
     "cell_type": "markdown",
     "checksum": "1c0395c49a22159be27099106a09398b",
     "grade": false,
     "grade_id": "cell-631b14e3458933cd",
     "locked": true,
     "schema_version": 3,
     "solution": false,
     "task": false
    }
   },
   "source": [
    "## 1. Carga de datos\n",
    "\n",
    "Iniciaremos con la importación de nuestro conjunto de datos.\n",
    "\n",
    "### Ejercicio 1.1.\n",
    "\n",
    "Utiliza Pandas para importar el archivo que contiene el conjunto de datos.\n",
    "\n",
    "* La ruta del archivo .csv es: `./data/carprice_data.csv`, y ya se encuentra en el entorno de Coursera, solo debes importarlo.\n",
    "* La variable resultante debe tener el nombre `data_raw`.\n",
    "* **Formato esperado de respuesta:** se verificará que tu respuesta sea un `DataFrame` de Pandas con dimensiones `(7632,16)`."
   ]
  },
  {
   "cell_type": "code",
   "execution_count": 2,
   "metadata": {
    "deletable": false,
    "nbgrader": {
     "cell_type": "code",
     "checksum": "e7305e15df8542f5180163b43b7bcb8c",
     "grade": false,
     "grade_id": "E11",
     "locked": false,
     "schema_version": 3,
     "solution": true,
     "task": false
    }
   },
   "outputs": [],
   "source": [
    "ruta = './data/carprice_data.csv'\n",
    "data_raw = pd.read_csv(ruta)"
   ]
  },
  {
   "cell_type": "code",
   "execution_count": 6,
   "metadata": {
    "deletable": false,
    "editable": false,
    "nbgrader": {
     "cell_type": "code",
     "checksum": "b605d9b18ec1d96eb1a324c4cfe1a9bb",
     "grade": true,
     "grade_id": "E11-tests",
     "locked": true,
     "points": 1,
     "schema_version": 3,
     "solution": false,
     "task": false
    }
   },
   "outputs": [],
   "source": [
    "#---------- Celda de pruebas - Ejercicio 1.1. ----------\n",
    "# La variable \"data_raw\" existe\n",
    "# El resultado es un DataFrame\n",
    "# El resultado tiene las dimensiones correctas\n",
    "#-------------------------------------------------------"
   ]
  },
  {
   "cell_type": "markdown",
   "metadata": {
    "deletable": false,
    "editable": false,
    "nbgrader": {
     "cell_type": "markdown",
     "checksum": "2e77a9d6469320eff8aa7802c1cf6192",
     "grade": false,
     "grade_id": "cell-7ae072959bf5f5fa",
     "locked": true,
     "schema_version": 3,
     "solution": false,
     "task": false
    }
   },
   "source": [
    "## 2. Descripción, análisis y preparación de los datos\n",
    "\n",
    "### Ejercicio 2.1.\n",
    "\n",
    "En la siguiente celda, obtén una descripción de los datos utilizando Pandas. Utiliza el resultado para responder a la pregunta 2.1.1.\n",
    "\n",
    "* Define una variable con el nombre `p21` y asígnale el valor correspondiente.\n",
    "* Encontrarás una línea solo con el nombre de la variable. Esta línea se usa para que puedas visualizar tu respuesta, por lo que siempre debe ir al final y no la debes modificar.\n",
    "* **Formato esperado de respuesta:** se verificará que tu respuesta sea un `DataFrame` de Pandas con dimensiones `(8,16)`."
   ]
  },
  {
   "cell_type": "code",
   "execution_count": 7,
   "metadata": {
    "deletable": false,
    "nbgrader": {
     "cell_type": "code",
     "checksum": "6c81b2fc9d69afcbb56f1b47a28df9f3",
     "grade": false,
     "grade_id": "E21",
     "locked": false,
     "schema_version": 3,
     "solution": true,
     "task": false
    }
   },
   "outputs": [],
   "source": [
    "# your code here\n",
    "\n",
    "p21 = data_raw.describe()"
   ]
  },
  {
   "cell_type": "code",
   "execution_count": 8,
   "metadata": {
    "deletable": false,
    "editable": false,
    "nbgrader": {
     "cell_type": "code",
     "checksum": "007c4ad885f111e1aac1e8b1c7150d02",
     "grade": true,
     "grade_id": "E21-tests",
     "locked": true,
     "points": 1,
     "schema_version": 3,
     "solution": false,
     "task": false
    }
   },
   "outputs": [],
   "source": [
    "#---------- Celda de pruebas - Ejercicio 2.1. ----------\n",
    "# La variable \"p21\" existe\n",
    "# El resultado es un DataFrame\n",
    "# El resultado tiene las dimensiones correctas\n",
    "#-------------------------------------------------------"
   ]
  },
  {
   "cell_type": "markdown",
   "metadata": {
    "deletable": false,
    "editable": false,
    "nbgrader": {
     "cell_type": "markdown",
     "checksum": "744f0a38342f9b7b52326606f71598f6",
     "grade": false,
     "grade_id": "cell-1c81c6d008cc8350",
     "locked": true,
     "schema_version": 3,
     "solution": false,
     "task": false
    }
   },
   "source": [
    "#### Pregunta 2.1.1.\n",
    "\n",
    "¿Qué precio promedio tienen los vehículos?\n",
    "\n",
    "* El precio corresponde a la variable `price`.\n",
    "* Para responder a la pregunta, define una variable con el nombre `p211` y asígnale el valor correspondiente. (**Ejemplo: `p211 = 10000`**)\n",
    "* Encontrarás una línea solo con el nombre de la variable. Esta línea se usa para que puedas visualizar tu respuesta, por lo que siempre debe ir al final y no la debes modificar.\n",
    "* **Formato esperado de respuesta:** se verificará que tu respuesta sea de tipo `float` de Python o `np.float64` de Numpy. Tu respuesta será comparada con un número de seis decimales. "
   ]
  },
  {
   "cell_type": "code",
   "execution_count": 11,
   "metadata": {
    "deletable": false,
    "nbgrader": {
     "cell_type": "code",
     "checksum": "8f54b2ff5fb207a5a314ee132a78edf5",
     "grade": false,
     "grade_id": "P211",
     "locked": false,
     "schema_version": 3,
     "solution": true,
     "task": false
    }
   },
   "outputs": [],
   "source": [
    "# your code here\n",
    "\n",
    "p211 = data_raw['price'].mean()"
   ]
  },
  {
   "cell_type": "code",
   "execution_count": 12,
   "metadata": {
    "deletable": false,
    "editable": false,
    "nbgrader": {
     "cell_type": "code",
     "checksum": "254e56921077ec28018e2073b89b61e2",
     "grade": true,
     "grade_id": "P211-tests",
     "locked": true,
     "points": 1,
     "schema_version": 3,
     "solution": false,
     "task": false
    }
   },
   "outputs": [],
   "source": [
    "#---------- Celda de pruebas - Pregunta 2.1.1. ----------\n",
    "# La variable \"p211\" existe\n",
    "# El resultado es un número de tipo \"float\"\n",
    "# El resultado se encuentra en el rango [450,159999]\n",
    "#--------------------------------------------------------"
   ]
  },
  {
   "cell_type": "markdown",
   "metadata": {
    "deletable": false,
    "editable": false,
    "nbgrader": {
     "cell_type": "markdown",
     "checksum": "0c1495ae081d39b06b94a261339cd669",
     "grade": false,
     "grade_id": "cell-4553da938fc9b6f2",
     "locked": true,
     "schema_version": 3,
     "solution": false,
     "task": false
    }
   },
   "source": [
    "### Ejercicio 2.2.\n",
    "\n",
    "Utiliza Pandas para obtener la cantidad de datos faltantes por variable.\n",
    "\n",
    "* Define una variable con el nombre `p22` y asígnale las operaciones correspondientes para obtener la **lista** de datos faltantes. (`p22 = <<Operaciones>>`)\n",
    "* Encontrarás una línea solo con el nombre de la variable. Esta línea se usa para que puedas visualizar tu respuesta, por lo que siempre debe ir al final y no la debes modificar.\n",
    "* **Formato esperado de respuesta:** se verificará que tu respuesta sea de tipo `pd.Series` con dimensiones `(16,)`."
   ]
  },
  {
   "cell_type": "code",
   "execution_count": 13,
   "metadata": {
    "deletable": false,
    "nbgrader": {
     "cell_type": "code",
     "checksum": "819e014d9bf2ca8d4b16203a7fcc41c3",
     "grade": false,
     "grade_id": "E22",
     "locked": false,
     "schema_version": 3,
     "solution": true,
     "task": false
    }
   },
   "outputs": [],
   "source": [
    "# your code here\n",
    "\n",
    "p22 = data_raw.isnull().sum()"
   ]
  },
  {
   "cell_type": "code",
   "execution_count": 14,
   "metadata": {
    "deletable": false,
    "editable": false,
    "nbgrader": {
     "cell_type": "code",
     "checksum": "e6102a8259771e8aa7d990ea1e62bfa9",
     "grade": true,
     "grade_id": "E22-tests",
     "locked": true,
     "points": 1,
     "schema_version": 3,
     "solution": false,
     "task": false
    }
   },
   "outputs": [],
   "source": [
    "#---------- Celda de pruebas - Ejercicio 2.2. ----------\n",
    "# La variable \"p22\" existe\n",
    "# El resultado es una Serie de Pandas\n",
    "# El resultado tiene las dimensiones correctas\n",
    "#-------------------------------------------------------"
   ]
  },
  {
   "cell_type": "markdown",
   "metadata": {
    "deletable": false,
    "editable": false,
    "nbgrader": {
     "cell_type": "markdown",
     "checksum": "866530469b924b6a633d2575f5851dc5",
     "grade": false,
     "grade_id": "cell-af3dca746c5fd77c",
     "locked": true,
     "schema_version": 3,
     "solution": false,
     "task": false
    }
   },
   "source": [
    "### Ejercicio 2.3.\n",
    "\n",
    "Similar al ejercicio anterior, utiliza Pandas para obtener la cantidad de filas duplicadas.\n",
    "\n",
    "* Define una variable con el nombre `p23` y asígnale las operaciones correspondientes para obtener el **número** de filas duplicadas (`p23 = <<Operaciones>>`).\n",
    "* Encontrarás una línea solo con el nombre de la variable. Esta línea se usa para que puedas visualizar tu respuesta, por lo que siempre debe ir al final y no la debes modificar.\n",
    "* **Formato esperado de respuesta:** se verificará que tu respuesta sea de tipo `int` de Python o `np.int64` de Numpy. Tu respuesta será comparada con un valor entero de tipo `int`. Los dos valores deben ser **exactamente iguales** (operador `==`) para que tu respuesta sea correcta."
   ]
  },
  {
   "cell_type": "code",
   "execution_count": 15,
   "metadata": {
    "deletable": false,
    "nbgrader": {
     "cell_type": "code",
     "checksum": "1fae8ec68c512f98cec35e3bc1f284be",
     "grade": false,
     "grade_id": "E23",
     "locked": false,
     "schema_version": 3,
     "solution": true,
     "task": false
    }
   },
   "outputs": [],
   "source": [
    "# your code here\n",
    "\n",
    "p23 = data_raw.duplicated().sum()"
   ]
  },
  {
   "cell_type": "code",
   "execution_count": 16,
   "metadata": {
    "deletable": false,
    "editable": false,
    "nbgrader": {
     "cell_type": "code",
     "checksum": "3b91b2bee9cd1325eb4d23e12d394b9d",
     "grade": true,
     "grade_id": "E23-tests",
     "locked": true,
     "points": 1,
     "schema_version": 3,
     "solution": false,
     "task": false
    }
   },
   "outputs": [],
   "source": [
    "#---------- Celda de pruebas - Ejercicio 2.3. ----------\n",
    "# La variable \"p23\" existe\n",
    "# El resultado es un número entero\n",
    "# El resultado está en el rango [0,7632]\n",
    "#-------------------------------------------------------"
   ]
  },
  {
   "cell_type": "markdown",
   "metadata": {
    "deletable": false,
    "editable": false,
    "nbgrader": {
     "cell_type": "markdown",
     "checksum": "29b18e9caa44fc4278b6c04afd376f46",
     "grade": false,
     "grade_id": "cell-c31777e76d85182d",
     "locked": true,
     "schema_version": 3,
     "solution": false,
     "task": false
    }
   },
   "source": [
    "### Ejercicio 2.4.\n",
    "\n",
    "Teniendo en cuenta que queremos predecir el precio de un vehículo dadas sus características técnicas, vamos a eliminar una variable que no es muy relevante: la identificación. A continuación, utiliza Pandas para eliminar la columna `carID`.\n",
    "\n",
    "* Define una variable con el nombre `data`, y asígnale tu respuesta. (**Ejemplo: `data = data_raw.<<Función>>`**)\n",
    "* Encontrarás una línea con `data.head()`. Esta línea se usa para que puedas visualizar tu respuesta, por lo que siempre debe ir al final y no la debes modificar.\n",
    "* **Formato esperado de respuesta:** se verificará que tu respuesta sea de tipo `pd.DataFrame` con dimensiones `(7632,15)`."
   ]
  },
  {
   "cell_type": "code",
   "execution_count": 17,
   "metadata": {
    "deletable": false,
    "nbgrader": {
     "cell_type": "code",
     "checksum": "48c948eec28c91b754111af69115918f",
     "grade": false,
     "grade_id": "E24",
     "locked": false,
     "schema_version": 3,
     "solution": true,
     "task": false
    }
   },
   "outputs": [
    {
     "data": {
      "text/html": [
       "<div>\n",
       "<style scoped>\n",
       "    .dataframe tbody tr th:only-of-type {\n",
       "        vertical-align: middle;\n",
       "    }\n",
       "\n",
       "    .dataframe tbody tr th {\n",
       "        vertical-align: top;\n",
       "    }\n",
       "\n",
       "    .dataframe thead th {\n",
       "        text-align: right;\n",
       "    }\n",
       "</style>\n",
       "<table border=\"1\" class=\"dataframe\">\n",
       "  <thead>\n",
       "    <tr style=\"text-align: right;\">\n",
       "      <th></th>\n",
       "      <th>year</th>\n",
       "      <th>mileage</th>\n",
       "      <th>tax</th>\n",
       "      <th>mpg</th>\n",
       "      <th>engineSize</th>\n",
       "      <th>price</th>\n",
       "      <th>transmission_Automatic</th>\n",
       "      <th>transmission_Manual</th>\n",
       "      <th>transmission_Other</th>\n",
       "      <th>transmission_Semi-Auto</th>\n",
       "      <th>fuelType_Diesel</th>\n",
       "      <th>fuelType_Electric</th>\n",
       "      <th>fuelType_Hybrid</th>\n",
       "      <th>fuelType_Other</th>\n",
       "      <th>fuelType_Petrol</th>\n",
       "    </tr>\n",
       "  </thead>\n",
       "  <tbody>\n",
       "    <tr>\n",
       "      <th>0</th>\n",
       "      <td>2019</td>\n",
       "      <td>4223</td>\n",
       "      <td>145.0</td>\n",
       "      <td>39.8</td>\n",
       "      <td>2.2</td>\n",
       "      <td>31995</td>\n",
       "      <td>0</td>\n",
       "      <td>0</td>\n",
       "      <td>0</td>\n",
       "      <td>1</td>\n",
       "      <td>1</td>\n",
       "      <td>0</td>\n",
       "      <td>0</td>\n",
       "      <td>0</td>\n",
       "      <td>0</td>\n",
       "    </tr>\n",
       "    <tr>\n",
       "      <th>1</th>\n",
       "      <td>2015</td>\n",
       "      <td>47870</td>\n",
       "      <td>125.0</td>\n",
       "      <td>60.1</td>\n",
       "      <td>2.0</td>\n",
       "      <td>7700</td>\n",
       "      <td>0</td>\n",
       "      <td>1</td>\n",
       "      <td>0</td>\n",
       "      <td>0</td>\n",
       "      <td>1</td>\n",
       "      <td>0</td>\n",
       "      <td>0</td>\n",
       "      <td>0</td>\n",
       "      <td>0</td>\n",
       "    </tr>\n",
       "    <tr>\n",
       "      <th>2</th>\n",
       "      <td>2019</td>\n",
       "      <td>5151</td>\n",
       "      <td>145.0</td>\n",
       "      <td>29.1</td>\n",
       "      <td>2.9</td>\n",
       "      <td>58990</td>\n",
       "      <td>1</td>\n",
       "      <td>0</td>\n",
       "      <td>0</td>\n",
       "      <td>0</td>\n",
       "      <td>0</td>\n",
       "      <td>0</td>\n",
       "      <td>0</td>\n",
       "      <td>0</td>\n",
       "      <td>1</td>\n",
       "    </tr>\n",
       "    <tr>\n",
       "      <th>3</th>\n",
       "      <td>2016</td>\n",
       "      <td>20423</td>\n",
       "      <td>30.0</td>\n",
       "      <td>57.6</td>\n",
       "      <td>2.0</td>\n",
       "      <td>12999</td>\n",
       "      <td>1</td>\n",
       "      <td>0</td>\n",
       "      <td>0</td>\n",
       "      <td>0</td>\n",
       "      <td>1</td>\n",
       "      <td>0</td>\n",
       "      <td>0</td>\n",
       "      <td>0</td>\n",
       "      <td>0</td>\n",
       "    </tr>\n",
       "    <tr>\n",
       "      <th>4</th>\n",
       "      <td>2020</td>\n",
       "      <td>3569</td>\n",
       "      <td>145.0</td>\n",
       "      <td>47.1</td>\n",
       "      <td>1.0</td>\n",
       "      <td>16990</td>\n",
       "      <td>0</td>\n",
       "      <td>0</td>\n",
       "      <td>0</td>\n",
       "      <td>1</td>\n",
       "      <td>0</td>\n",
       "      <td>0</td>\n",
       "      <td>0</td>\n",
       "      <td>0</td>\n",
       "      <td>1</td>\n",
       "    </tr>\n",
       "  </tbody>\n",
       "</table>\n",
       "</div>"
      ],
      "text/plain": [
       "   year  mileage    tax   mpg  engineSize  price  transmission_Automatic  \\\n",
       "0  2019     4223  145.0  39.8         2.2  31995                       0   \n",
       "1  2015    47870  125.0  60.1         2.0   7700                       0   \n",
       "2  2019     5151  145.0  29.1         2.9  58990                       1   \n",
       "3  2016    20423   30.0  57.6         2.0  12999                       1   \n",
       "4  2020     3569  145.0  47.1         1.0  16990                       0   \n",
       "\n",
       "   transmission_Manual  transmission_Other  transmission_Semi-Auto  \\\n",
       "0                    0                   0                       1   \n",
       "1                    1                   0                       0   \n",
       "2                    0                   0                       0   \n",
       "3                    0                   0                       0   \n",
       "4                    0                   0                       1   \n",
       "\n",
       "   fuelType_Diesel  fuelType_Electric  fuelType_Hybrid  fuelType_Other  \\\n",
       "0                1                  0                0               0   \n",
       "1                1                  0                0               0   \n",
       "2                0                  0                0               0   \n",
       "3                1                  0                0               0   \n",
       "4                0                  0                0               0   \n",
       "\n",
       "   fuelType_Petrol  \n",
       "0                0  \n",
       "1                0  \n",
       "2                1  \n",
       "3                0  \n",
       "4                1  "
      ]
     },
     "execution_count": 17,
     "metadata": {},
     "output_type": "execute_result"
    }
   ],
   "source": [
    "data = data_raw.drop(columns=['carID'])\n",
    "\n",
    "data.head()"
   ]
  },
  {
   "cell_type": "code",
   "execution_count": 18,
   "metadata": {
    "deletable": false,
    "editable": false,
    "nbgrader": {
     "cell_type": "code",
     "checksum": "98bea4c5700da44cc7dd094ba6c49298",
     "grade": true,
     "grade_id": "E24-tests",
     "locked": true,
     "points": 1,
     "schema_version": 3,
     "solution": false,
     "task": false
    }
   },
   "outputs": [],
   "source": [
    "#---------- Celda de pruebas - Ejercicio 2.4. ----------\n",
    "# La variable \"data\" existe\n",
    "# El resultado es un DataFrame\n",
    "# El resultado tiene las dimensiones correctas\n",
    "# El resultado no contiene la variable \"carID\"\n",
    "#-------------------------------------------------------"
   ]
  },
  {
   "cell_type": "markdown",
   "metadata": {
    "deletable": false,
    "editable": false,
    "nbgrader": {
     "cell_type": "markdown",
     "checksum": "40986ce28017d2c7cc1d7795e7e7026a",
     "grade": false,
     "grade_id": "cell-cfda05562036d81f",
     "locked": true,
     "schema_version": 3,
     "solution": false,
     "task": false
    }
   },
   "source": [
    "## 3. Entrenamiento de un modelo de regresión lineal\n",
    "\n",
    "### Ejercicio 3.1.\n",
    "\n",
    "Inicialmente, divide el conjunto de datos en entrenamiento y pruebas. Usando el 80% de los datos para entrenar el modelo y el 20% restante para probarlo, utiliza `scikit-learn` para separar el conjunto de datos en dos.\n",
    "\n",
    "* Guarda tu respuesta en dos variables: `train` y `test`. (**Ejemplo: `train, test = <<Función>>`**)\n",
    "* Utiliza el parámetro `random_state=0`. Esto hará que la partición sea siempre la misma.\n",
    "* Encontrarás la línea `train.head()`. Esta línea se usa para que puedas visualizar el resultado del conjunto de entrenamiento. Déjala al final de la celda y no la modifiques.\n",
    "* **Formato esperado de respuesta:** se verificará que tu respuesta sean dos variables de tipo `pd.DataFrame`.\n",
    "    * `train` debe tener dimensiones `(6105,15)`.\n",
    "    * `test` debe tener dimensiones `(1527,15)`."
   ]
  },
  {
   "cell_type": "code",
   "execution_count": 19,
   "metadata": {
    "deletable": false,
    "nbgrader": {
     "cell_type": "code",
     "checksum": "15e933a8c2e84da336d0095ddbd24e16",
     "grade": false,
     "grade_id": "E31",
     "locked": false,
     "schema_version": 3,
     "solution": true,
     "task": false
    }
   },
   "outputs": [
    {
     "data": {
      "text/html": [
       "<div>\n",
       "<style scoped>\n",
       "    .dataframe tbody tr th:only-of-type {\n",
       "        vertical-align: middle;\n",
       "    }\n",
       "\n",
       "    .dataframe tbody tr th {\n",
       "        vertical-align: top;\n",
       "    }\n",
       "\n",
       "    .dataframe thead th {\n",
       "        text-align: right;\n",
       "    }\n",
       "</style>\n",
       "<table border=\"1\" class=\"dataframe\">\n",
       "  <thead>\n",
       "    <tr style=\"text-align: right;\">\n",
       "      <th></th>\n",
       "      <th>year</th>\n",
       "      <th>mileage</th>\n",
       "      <th>tax</th>\n",
       "      <th>mpg</th>\n",
       "      <th>engineSize</th>\n",
       "      <th>price</th>\n",
       "      <th>transmission_Automatic</th>\n",
       "      <th>transmission_Manual</th>\n",
       "      <th>transmission_Other</th>\n",
       "      <th>transmission_Semi-Auto</th>\n",
       "      <th>fuelType_Diesel</th>\n",
       "      <th>fuelType_Electric</th>\n",
       "      <th>fuelType_Hybrid</th>\n",
       "      <th>fuelType_Other</th>\n",
       "      <th>fuelType_Petrol</th>\n",
       "    </tr>\n",
       "  </thead>\n",
       "  <tbody>\n",
       "    <tr>\n",
       "      <th>6131</th>\n",
       "      <td>2018</td>\n",
       "      <td>30727</td>\n",
       "      <td>145.0</td>\n",
       "      <td>31.7</td>\n",
       "      <td>2.5</td>\n",
       "      <td>15489</td>\n",
       "      <td>0</td>\n",
       "      <td>1</td>\n",
       "      <td>0</td>\n",
       "      <td>0</td>\n",
       "      <td>1</td>\n",
       "      <td>0</td>\n",
       "      <td>0</td>\n",
       "      <td>0</td>\n",
       "      <td>0</td>\n",
       "    </tr>\n",
       "    <tr>\n",
       "      <th>861</th>\n",
       "      <td>2015</td>\n",
       "      <td>53101</td>\n",
       "      <td>10.0</td>\n",
       "      <td>64.2</td>\n",
       "      <td>1.8</td>\n",
       "      <td>17498</td>\n",
       "      <td>1</td>\n",
       "      <td>0</td>\n",
       "      <td>0</td>\n",
       "      <td>0</td>\n",
       "      <td>0</td>\n",
       "      <td>0</td>\n",
       "      <td>1</td>\n",
       "      <td>0</td>\n",
       "      <td>0</td>\n",
       "    </tr>\n",
       "    <tr>\n",
       "      <th>7114</th>\n",
       "      <td>2016</td>\n",
       "      <td>28684</td>\n",
       "      <td>160.0</td>\n",
       "      <td>51.4</td>\n",
       "      <td>3.0</td>\n",
       "      <td>21975</td>\n",
       "      <td>0</td>\n",
       "      <td>0</td>\n",
       "      <td>0</td>\n",
       "      <td>1</td>\n",
       "      <td>1</td>\n",
       "      <td>0</td>\n",
       "      <td>0</td>\n",
       "      <td>0</td>\n",
       "      <td>0</td>\n",
       "    </tr>\n",
       "    <tr>\n",
       "      <th>6783</th>\n",
       "      <td>2019</td>\n",
       "      <td>9500</td>\n",
       "      <td>145.0</td>\n",
       "      <td>32.8</td>\n",
       "      <td>2.0</td>\n",
       "      <td>27450</td>\n",
       "      <td>0</td>\n",
       "      <td>0</td>\n",
       "      <td>0</td>\n",
       "      <td>1</td>\n",
       "      <td>0</td>\n",
       "      <td>0</td>\n",
       "      <td>0</td>\n",
       "      <td>0</td>\n",
       "      <td>1</td>\n",
       "    </tr>\n",
       "    <tr>\n",
       "      <th>3225</th>\n",
       "      <td>2004</td>\n",
       "      <td>86000</td>\n",
       "      <td>325.0</td>\n",
       "      <td>28.0</td>\n",
       "      <td>3.5</td>\n",
       "      <td>5000</td>\n",
       "      <td>1</td>\n",
       "      <td>0</td>\n",
       "      <td>0</td>\n",
       "      <td>0</td>\n",
       "      <td>0</td>\n",
       "      <td>0</td>\n",
       "      <td>0</td>\n",
       "      <td>0</td>\n",
       "      <td>1</td>\n",
       "    </tr>\n",
       "  </tbody>\n",
       "</table>\n",
       "</div>"
      ],
      "text/plain": [
       "      year  mileage    tax   mpg  engineSize  price  transmission_Automatic  \\\n",
       "6131  2018    30727  145.0  31.7         2.5  15489                       0   \n",
       "861   2015    53101   10.0  64.2         1.8  17498                       1   \n",
       "7114  2016    28684  160.0  51.4         3.0  21975                       0   \n",
       "6783  2019     9500  145.0  32.8         2.0  27450                       0   \n",
       "3225  2004    86000  325.0  28.0         3.5   5000                       1   \n",
       "\n",
       "      transmission_Manual  transmission_Other  transmission_Semi-Auto  \\\n",
       "6131                    1                   0                       0   \n",
       "861                     0                   0                       0   \n",
       "7114                    0                   0                       1   \n",
       "6783                    0                   0                       1   \n",
       "3225                    0                   0                       0   \n",
       "\n",
       "      fuelType_Diesel  fuelType_Electric  fuelType_Hybrid  fuelType_Other  \\\n",
       "6131                1                  0                0               0   \n",
       "861                 0                  0                1               0   \n",
       "7114                1                  0                0               0   \n",
       "6783                0                  0                0               0   \n",
       "3225                0                  0                0               0   \n",
       "\n",
       "      fuelType_Petrol  \n",
       "6131                0  \n",
       "861                 0  \n",
       "7114                0  \n",
       "6783                1  \n",
       "3225                1  "
      ]
     },
     "execution_count": 19,
     "metadata": {},
     "output_type": "execute_result"
    }
   ],
   "source": [
    "train, test = train_test_split(data, test_size = 0.2, random_state=0)\n",
    "\n",
    "train.head()"
   ]
  },
  {
   "cell_type": "code",
   "execution_count": 20,
   "metadata": {
    "deletable": false,
    "editable": false,
    "nbgrader": {
     "cell_type": "code",
     "checksum": "941252c877816b5a86a42f642696450b",
     "grade": true,
     "grade_id": "E31-tests",
     "locked": true,
     "points": 1,
     "schema_version": 3,
     "solution": false,
     "task": false
    }
   },
   "outputs": [],
   "source": [
    "#---------- Celda de pruebas - Ejercicio 3.1. ----------\n",
    "# Las variables \"train\" y \"test\" existen\n",
    "# Las variables \"train\" y \"test\" son un DataFrame\n",
    "# Las variables tienen las dimensiones correctas\n",
    "#-------------------------------------------------------"
   ]
  },
  {
   "cell_type": "markdown",
   "metadata": {
    "deletable": false,
    "editable": false,
    "nbgrader": {
     "cell_type": "markdown",
     "checksum": "72a15cabe094c8f777d97831fb713243",
     "grade": false,
     "grade_id": "cell-a11188665fd75f3e",
     "locked": true,
     "schema_version": 3,
     "solution": false,
     "task": false
    }
   },
   "source": [
    "### Ejercicio 3.2.\n",
    "\n",
    "Ahora debes aislar la variable objetivo, `price`, de las variables descriptoras.\n",
    "\n",
    "* Crea una variable con nombre `x_train` y asígnale la operación necesaria para almacenar solo las variables descriptoras del conjunto de entrenamiento.\n",
    "* Crea una variable con nombre `y_train` y asígnale la operación necesaria para almacenar la variable objetivo del conjunto de entrenamiento.\n",
    "* **Formato esperado de respuesta:** se verificará que tu respuesta sean dos variables. \n",
    "    * `x_train` debe ser de tipo `pd.DataFrame` y tener dimensiones `(6105,14)`.\n",
    "    * `y_train` debe ser de tipo `pd.Series` y tener dimensiones `(6105,)`."
   ]
  },
  {
   "cell_type": "code",
   "execution_count": 21,
   "metadata": {
    "deletable": false,
    "nbgrader": {
     "cell_type": "code",
     "checksum": "334c5e0067a5868725b22e9953edf1ec",
     "grade": false,
     "grade_id": "E32",
     "locked": false,
     "schema_version": 3,
     "solution": true,
     "task": false
    }
   },
   "outputs": [],
   "source": [
    "x_train = train.drop(columns=['price'])\n",
    "\n",
    "y_train = train['price']"
   ]
  },
  {
   "cell_type": "code",
   "execution_count": 22,
   "metadata": {
    "deletable": false,
    "editable": false,
    "nbgrader": {
     "cell_type": "code",
     "checksum": "3b45529c75dbec9caf2cb9938d44365e",
     "grade": true,
     "grade_id": "E32-tests",
     "locked": true,
     "points": 1,
     "schema_version": 3,
     "solution": false,
     "task": false
    }
   },
   "outputs": [],
   "source": [
    "#---------- Celda de pruebas - Ejercicio 3.2. ----------\n",
    "# Las variables \"x_train\" y \"y_train\" existen\n",
    "# La variable \"x_train\" es un DataFrame\n",
    "# La variable \"y_train\" es una Serie de Pandas\n",
    "# Las variables tienen las dimensiones correctas\n",
    "#-------------------------------------------------------"
   ]
  },
  {
   "cell_type": "markdown",
   "metadata": {
    "deletable": false,
    "editable": false,
    "nbgrader": {
     "cell_type": "markdown",
     "checksum": "9d1ce0dff6f0343606030cd53835a345",
     "grade": false,
     "grade_id": "cell-6c58cb408e0f0f1a",
     "locked": true,
     "schema_version": 3,
     "solution": false,
     "task": false
    }
   },
   "source": [
    "### Ejercicio 3.3.\n",
    "\n",
    "Inicialmente crearemos un objeto de tipo `LinearRegression()`:"
   ]
  },
  {
   "cell_type": "code",
   "execution_count": 23,
   "metadata": {
    "deletable": false,
    "editable": false,
    "nbgrader": {
     "cell_type": "code",
     "checksum": "5b34c0eee52f07340e6211aac1dde044",
     "grade": false,
     "grade_id": "cell-636480acf7602f5b",
     "locked": true,
     "schema_version": 3,
     "solution": false,
     "task": false
    }
   },
   "outputs": [],
   "source": [
    "lineal = LinearRegression()"
   ]
  },
  {
   "cell_type": "markdown",
   "metadata": {
    "deletable": false,
    "editable": false,
    "nbgrader": {
     "cell_type": "markdown",
     "checksum": "ab40dc7fe4909b4a72b902e7f0510949",
     "grade": false,
     "grade_id": "cell-0d302dd2b9a2d7d7",
     "locked": true,
     "schema_version": 3,
     "solution": false,
     "task": false
    }
   },
   "source": [
    "A continuación, utiliza el objeto `lineal` y entrena el modelo de regresión lineal con los datos modificados.\n",
    "\n",
    "* Para este ejercicio no debes asignar tu resultado a ninguna variable. Es decir, solo debes ejecutar una función utilizando las variables `x_train` y `y_train` como parámetros.\n",
    "* **Formato esperado de respuesta:** se verificará que el objeto `lineal` tenga definidos los atributos `coef_` e `intercept_`.\n",
    "    * `lineal.coef_` debe tener dimensiones `(14,)`."
   ]
  },
  {
   "cell_type": "code",
   "execution_count": 24,
   "metadata": {
    "deletable": false,
    "nbgrader": {
     "cell_type": "code",
     "checksum": "432e6bbc6e7be336f7583ec401a5d012",
     "grade": false,
     "grade_id": "E33",
     "locked": false,
     "schema_version": 3,
     "solution": true,
     "task": false
    }
   },
   "outputs": [
    {
     "data": {
      "text/plain": [
       "LinearRegression(copy_X=True, fit_intercept=True, n_jobs=None, normalize=False)"
      ]
     },
     "execution_count": 24,
     "metadata": {},
     "output_type": "execute_result"
    }
   ],
   "source": [
    "lineal.fit(x_train, y_train)"
   ]
  },
  {
   "cell_type": "code",
   "execution_count": 25,
   "metadata": {
    "deletable": false,
    "editable": false,
    "nbgrader": {
     "cell_type": "code",
     "checksum": "de4da1bfb6710e9ffd21a114781921bf",
     "grade": true,
     "grade_id": "E33-tests",
     "locked": true,
     "points": 1,
     "schema_version": 3,
     "solution": false,
     "task": false
    }
   },
   "outputs": [],
   "source": [
    "#---------- Celda de pruebas - Ejercicio 3.3. ----------\n",
    "# El atributo \"coef_\" y el atributo \"intercept_\" existen para el objeto \"lineal\"\n",
    "# El objeto \"lineal\" tiene 14 coeficientes\n",
    "# El objeto \"lineal\" tiene un intercepto\n",
    "#-------------------------------------------------------"
   ]
  },
  {
   "cell_type": "markdown",
   "metadata": {
    "deletable": false,
    "editable": false,
    "nbgrader": {
     "cell_type": "markdown",
     "checksum": "1638618545774fbfebd5f0f43702919b",
     "grade": false,
     "grade_id": "cell-2825eff93cc7585c",
     "locked": true,
     "schema_version": 3,
     "solution": false,
     "task": false
    }
   },
   "source": [
    "## 4. Evaluación del modelo\n",
    "\n",
    "Por último, evalúa los modelos entrenados utilizando el conjunto de pruebas.\n",
    "\n",
    "### Ejercicio 4.1.\n",
    "\n",
    "Separa las variables descriptoras y la variable objetivo en el conjunto de pruebas.\n",
    "\n",
    "* Crea una variable con nombre `x_test` y asígnale la operación necesaria para almacenar solo las variables descriptoras del conjunto de pruebas.\n",
    "* Crea una variable con nombre `y_test` y asígnale la operación necesaria para almacenar la variable objetivo del conjunto de pruebas.\n",
    "* **Formato esperado de respuesta:** se verificará que tu respuesta sean dos variables. \n",
    "    * `x_test` debe ser de tipo `pd.DataFrame` y tener dimensiones `(1527,14)`.\n",
    "    * `y_test` debe ser de tipo `pd.Series` y tener dimensiones `(1527,)`."
   ]
  },
  {
   "cell_type": "code",
   "execution_count": 27,
   "metadata": {
    "deletable": false,
    "nbgrader": {
     "cell_type": "code",
     "checksum": "6058dc721b09a522e8fcb0a5f4827f6c",
     "grade": false,
     "grade_id": "E41",
     "locked": false,
     "schema_version": 3,
     "solution": true,
     "task": false
    }
   },
   "outputs": [],
   "source": [
    "x_test = test.drop(columns=['price'])\n",
    "y_test = test['price']"
   ]
  },
  {
   "cell_type": "code",
   "execution_count": 28,
   "metadata": {
    "deletable": false,
    "editable": false,
    "nbgrader": {
     "cell_type": "code",
     "checksum": "45f0f098804a89635fdf7386c024340b",
     "grade": true,
     "grade_id": "E41-tests",
     "locked": true,
     "points": 1,
     "schema_version": 3,
     "solution": false,
     "task": false
    }
   },
   "outputs": [],
   "source": [
    "#---------- Celda de pruebas - Ejercicio 4.1. ----------\n",
    "# Las variables \"x_test\" y \"y_test\" existen\n",
    "# La variable \"x_test\" es un DataFrame\n",
    "# La variable \"y_test\" es una Serie de Pandas\n",
    "# Las variables tienen las dimensiones correctas\n",
    "#-------------------------------------------------------"
   ]
  },
  {
   "cell_type": "markdown",
   "metadata": {
    "deletable": false,
    "editable": false,
    "nbgrader": {
     "cell_type": "markdown",
     "checksum": "7848f7f29c13a47b81eb516e4a058fdf",
     "grade": false,
     "grade_id": "cell-7654e3af48df787e",
     "locked": true,
     "schema_version": 3,
     "solution": false,
     "task": false
    }
   },
   "source": [
    "### Ejercicio 4.2.\n",
    "\n",
    "#### Ejercicio 4.2.1.\n",
    "Realiza predicciones sobre el modelo de regresión lineal.\n",
    "\n",
    "* Utiliza el objeto `lineal` para realizar las predicciones. Asigna el resultado a una variable con nombre `y_pred`.\n",
    "* **Formato esperado de respuesta:** se verificará que tu respuesta sea de tipo `np.ndarray` y tenga dimensiones `(1527,)`."
   ]
  },
  {
   "cell_type": "code",
   "execution_count": 29,
   "metadata": {
    "deletable": false,
    "nbgrader": {
     "cell_type": "code",
     "checksum": "d182f1bf1fd905e233064fd9b6f79967",
     "grade": false,
     "grade_id": "E421",
     "locked": false,
     "schema_version": 3,
     "solution": true,
     "task": false
    }
   },
   "outputs": [],
   "source": [
    "# your code here\n",
    "\n",
    "y_pred = lineal.predict(x_test)"
   ]
  },
  {
   "cell_type": "code",
   "execution_count": 30,
   "metadata": {
    "deletable": false,
    "editable": false,
    "nbgrader": {
     "cell_type": "code",
     "checksum": "78c07bc7e0530f828a539a861b58b80a",
     "grade": true,
     "grade_id": "E421-tests",
     "locked": true,
     "points": 1,
     "schema_version": 3,
     "solution": false,
     "task": false
    }
   },
   "outputs": [],
   "source": [
    "#---------- Celda de pruebas - Ejercicio 4.2.1. ----------\n",
    "# La variable \"y_pred\" existe\n",
    "# La variable \"y_pred\" es un arreglo\n",
    "# La variable \"y_pred\" tiene las dimensiones correctas\n",
    "#---------------------------------------------------------"
   ]
  },
  {
   "cell_type": "markdown",
   "metadata": {
    "deletable": false,
    "editable": false,
    "nbgrader": {
     "cell_type": "markdown",
     "checksum": "4b066c99b856904f8487a7eef063322c",
     "grade": false,
     "grade_id": "cell-6e926fd23b6c144e",
     "locked": true,
     "schema_version": 3,
     "solution": false,
     "task": false
    }
   },
   "source": [
    "#### Ejercicio 4.2.2.\n",
    "\n",
    "Utiliza `scikit-learn` para obtener la Raíz del Error Cuadrático Medio (RMSE), el Error Absoluto Medio (MAE) y el Coeficiente de determinación (R<sup>2</sup>).\n",
    "\n",
    "* Define una variable con el nombre `rmse` y asígnale la función necesaria para obtener el RMSE.\n",
    "* Define una variable con el nombre `mae` y asígnale la función necesaria para obtener el MAE.\n",
    "* Define una variable con el nombre `r2` y asígnale la función necesaria para obtener el R<sup>2</sup>.\n",
    "* **Formato esperado de respuesta:** se verificará que tu respuesta sean tres variables. \n",
    "    * `rmse` debe ser de tipo `np.float64` o `float`. Su valor debe estar entre 7000 y 10000.\n",
    "    * `mae` debe ser de tipo `np.float64` o `float`. Su valor debe estar entre 5000 y 7000.\n",
    "    * `r2` debe ser de tipo `np.float64` o `float`. Su valor debe estar entre 0.4 y 0.7."
   ]
  },
  {
   "cell_type": "code",
   "execution_count": 32,
   "metadata": {
    "deletable": false,
    "nbgrader": {
     "cell_type": "code",
     "checksum": "ead806d27a5c83b56e187015698f1de9",
     "grade": false,
     "grade_id": "E422",
     "locked": false,
     "schema_version": 3,
     "solution": true,
     "task": false
    }
   },
   "outputs": [
    {
     "name": "stdout",
     "output_type": "stream",
     "text": [
      "----------Regresión lineal----------\n",
      "RMSE:  9770.592313256078\n",
      "MAE:  6387.650184872998\n",
      "R²:  0.6733027614992744\n"
     ]
    }
   ],
   "source": [
    "# your code here\n",
    "\n",
    "rmse = np.sqrt(mean_squared_error(y_test, y_pred))\n",
    "mae = mean_absolute_error(y_test, y_pred)\n",
    "r2 = r2_score(y_test, y_pred)\n",
    "\n",
    "print(\"----------Regresión lineal----------\")\n",
    "print(\"RMSE: \", rmse)\n",
    "print(\"MAE: \", mae)\n",
    "print('R²: ', r2)"
   ]
  },
  {
   "cell_type": "code",
   "execution_count": 33,
   "metadata": {
    "deletable": false,
    "editable": false,
    "nbgrader": {
     "cell_type": "code",
     "checksum": "504b92588348e8c851190a90ed49ba35",
     "grade": true,
     "grade_id": "E422-tests",
     "locked": true,
     "points": 1,
     "schema_version": 3,
     "solution": false,
     "task": false
    }
   },
   "outputs": [],
   "source": [
    "#---------- Celda de pruebas - Ejercicio 4.2.2. ----------\n",
    "# Las variables \"rmse\", \"mae\" y \"r2\" existen\n",
    "# Las variables son números\n",
    "# Las variables tienen valores válidos\n",
    "#---------------------------------------------------------"
   ]
  },
  {
   "cell_type": "markdown",
   "metadata": {
    "deletable": false,
    "editable": false,
    "nbgrader": {
     "cell_type": "markdown",
     "checksum": "87b2463b1e476c04a41c124805e9bd8f",
     "grade": false,
     "grade_id": "cell-66f3dea1fa6ffc41",
     "locked": true,
     "schema_version": 3,
     "solution": false,
     "task": false
    }
   },
   "source": [
    "## Cierre\n",
    "\n",
    "Al desarrollar este laboratorio, has practicado tus capacidades para analizar un conjunto de datos y entrenar un modelo de regresión lineal mediante scikit-learn. Adicionalmente, realizaste predicciones con el modelo resultante y calculaste tres métricas de rendimiento sobre los resultados.\n",
    "\n",
    "---\n",
    "*Creado por: Nicolás Díaz*  \n",
    "*Revisado por: Haydemar Nuñez*  \n",
    "*Versión de: Enero 31, 2024*  \n",
    "*Universidad de los Andes*  "
   ]
  }
 ],
 "metadata": {
  "kernelspec": {
   "display_name": "Python 3",
   "language": "python",
   "name": "python3"
  },
  "language_info": {
   "codemirror_mode": {
    "name": "ipython",
    "version": 3
   },
   "file_extension": ".py",
   "mimetype": "text/x-python",
   "name": "python",
   "nbconvert_exporter": "python",
   "pygments_lexer": "ipython3",
   "version": "3.7.6"
  }
 },
 "nbformat": 4,
 "nbformat_minor": 4
}
